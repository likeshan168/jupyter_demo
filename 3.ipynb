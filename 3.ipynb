{
 "cells": [
  {
   "cell_type": "code",
   "execution_count": 1,
   "metadata": {},
   "outputs": [],
   "source": [
    "import torch\n",
    "import numpy as np\n",
    "import pandas as pd"
   ]
  },
  {
   "cell_type": "markdown",
   "metadata": {
    "custom_styles": {
     "border": "1px solid #000 !important",
     "overflow": "auto !important",
     "resize": "both !important"
    }
   },
   "source": [
    "# eval()\n",
    "eval() 函数用来执行一个字符串表达式，并返回表达式的值。\n"
   ]
  },
  {
   "cell_type": "code",
   "execution_count": 1,
   "metadata": {},
   "outputs": [
    {
     "name": "stdout",
     "output_type": "stream",
     "text": [
      "21\n",
      "4\n",
      "4\n",
      "85\n"
     ]
    }
   ],
   "source": [
    "x = 7\n",
    "print(eval( '3 * x' ))\n",
    "print(eval('pow(2,2)'))\n",
    "print(eval('2 + 2'))\n",
    "n=81\n",
    "print(eval(\"n + 4\"))"
   ]
  },
  {
   "cell_type": "markdown",
   "metadata": {
     "custom_styles": {
      "border": "1px solid #000 !important",
      "overflow": "auto !important",
      "resize": "both !important"
     }
   },
   "source": [
    "# list"
   ]
  },
  {
   "cell_type": "code",
   "execution_count": 2,
   "metadata": {
    "scrolled": false
   },
   "outputs": [
    {
     "name": "stdout",
     "output_type": "stream",
     "text": [
      "[[1, 2, 4, 5, 6], [2, 5, 4, 4, 4, 4], [3, 9, 9, 4, 8, 4, 4, 4, 4]]\n",
      "[1, 2, 4, 5, 6]\n",
      "1\n",
      "<class 'list'>\n",
      "\n",
      "list1[0]:  physics\n",
      "list2[1:5]:  [2, 3, 4, 5]\n",
      "2000\n",
      "1997\n",
      "['chemistry', 1997, 2000]\n",
      "physics\n",
      "chemistry\n",
      "1997\n",
      "2000\n",
      "\n",
      "['Google', 'Runoob']\n",
      "\n",
      "['physics', 'chemistry', 1997, 2000]\n",
      "After deleting value at index 2 : \n",
      "['physics', 'chemistry', 2000]\n",
      "\n",
      "4\n",
      "['physics', 'chemistry', 1997, 2000, 1, 2, 3, 4, 5, 6, 7]\n",
      "True\n",
      "7\n",
      "1\n",
      "2\n",
      "None\n",
      "2\n",
      "None\n",
      "None\n",
      "None\n"
     ]
    }
   ],
   "source": [
    "x = [[1,2,4,5,6], [2,5,4,4,4,4,], [3,9,9,4,8,4,4,4,4,]] \n",
    "print(x)\n",
    "print(x[0])\n",
    "print(x[0][0])\n",
    "print(type(x))\n",
    "\n",
    "print()\n",
    "list1 = ['physics', 'chemistry', 1997, 2000]\n",
    "list2 = [1, 2, 3, 4, 5, 6, 7 ]\n",
    "print (\"list1[0]: \", list1[0])\n",
    "print (\"list2[1:5]: \", list2[1:5])\n",
    "print(list1[-1])\n",
    "print(list1[-2])\n",
    "print(list1[1:])\n",
    "for x in list1:\n",
    "    print(x)\n",
    "\n",
    "print()\n",
    "list = []          ## 空列表\n",
    "list.append('Google')   ## 使用 append() 添加元素\n",
    "list.append('Runoob')\n",
    "print (list)\n",
    "\n",
    "print()\n",
    "list1 = ['physics', 'chemistry', 1997, 2000]\n",
    "print (list1)\n",
    "del list1[2]\n",
    "print (\"After deleting value at index 2 : \")\n",
    "print (list1)\n",
    "\n",
    "print()\n",
    "list1 = ['physics', 'chemistry', 1997, 2000]\n",
    "list2 = [1, 2, 3, 4, 5, 6, 7 ]\n",
    "print(len(list1))\n",
    "print(list1+list2)\n",
    "print(3 in list2)\n",
    "# print(cmp(list1,list2))\n",
    "print(max(list2))\n",
    "print(min(list2))\n",
    "list2.append(2)\n",
    "print(list2.count(2))\n",
    "print(list1.extend(list2))\n",
    "print(list2.index(3))\n",
    "print(list2.remove(3))\n",
    "print(list2.reverse())\n",
    "print(list2.sort())"
   ]
  },
  {
   "cell_type": "markdown",
   "metadata": {},
   "source": [
    "# ndarray"
   ]
  },
  {
   "cell_type": "code",
   "execution_count": 3,
   "metadata": {},
   "outputs": [
    {
     "name": "stdout",
     "output_type": "stream",
     "text": [
      "[1 2 3 4 9 9 9 9]\n",
      "<class 'numpy.ndarray'>\n",
      "[list([1, 2, 4, 5, 6]) list([2, 5, 4, 4, 4, 4])\n",
      " list([3, 9, 9, 4, 8, 4, 4, 4, 4])]\n",
      "<class 'numpy.ndarray'>\n"
     ]
    },
    {
     "name": "stderr",
     "output_type": "stream",
     "text": [
      "<ipython-input-3-ca7786503301>:7: VisibleDeprecationWarning: Creating an ndarray from ragged nested sequences (which is a list-or-tuple of lists-or-tuples-or ndarrays with different lengths or shapes) is deprecated. If you meant to do this, you must specify 'dtype=object' when creating the ndarray\n",
      "  x = np.array(x)\n"
     ]
    }
   ],
   "source": [
    "import numpy as np\n",
    "\n",
    "x = [[1,2,4,5,6], [2,5,4,4,4,4,], [3,9,9,4,8,4,4,4,4,]] \n",
    "y=np.array([1,2,3,4,9,9,9,9])\n",
    "print(y)\n",
    "print(type(y))\n",
    "x = np.array(x)\n",
    "print(x)\n",
    "print(type(x))\n"
   ]
  },
  {
   "cell_type": "markdown",
   "metadata": {},
   "source": [
    "# dict"
   ]
  },
  {
   "cell_type": "code",
   "execution_count": 22,
   "metadata": {},
   "outputs": [
    {
     "name": "stdout",
     "output_type": "stream",
     "text": [
      "{1: 0, 2: 1, 3: 2, 4: 3}\n",
      "<class 'dict'>\n",
      "{0: 1, 1: 2, 2: 3, 3: 4}\n",
      "{'a': 31, 'd': 5, 'c': 3, 'b': 4, 'f': 56, 'e': 0}\n",
      "[('f', 56), ('e', 0), ('d', 5), ('c', 3), ('b', 4), ('a', 31)]\n",
      "[('f', 56), ('a', 31), ('d', 5), ('b', 4), ('c', 3), ('e', 0)]\n",
      "[('a', 31), ('b', 4), ('c', 3), ('d', 5), ('e', 0), ('f', 56)]\n",
      "[('e', 0), ('c', 3), ('b', 4), ('d', 5), ('a', 31), ('f', 56)]\n",
      "[('e', 0), ('c', 3), ('b', 4), ('d', 5), ('a', 31), ('f', 56)]\n",
      "['e', 'c', 'b', 'd', 'a', 'f']\n"
     ]
    }
   ],
   "source": [
    "b=[1,2,3,4,]\n",
    "a={word: idx for idx, word in enumerate(b)}\n",
    "b={idx: word for idx, word in enumerate(b)}\n",
    "print(a)\n",
    "print(type(a))\n",
    "print(b)\n",
    "\n",
    "# 字典排序\n",
    "dic = {'a':31, 'd':5, 'c':3, 'b':4, 'f':56, 'e':0}\n",
    "print(dic)\n",
    "# ips是字典，item[0]的话是对键排序，item[1]是对值排序，reverse = False是升序（默认），reverse = True是降序\n",
    "print(sorted(dic.items(), key=lambda item:item[0], reverse = True))\n",
    "print(sorted(dic.items(), key=lambda item:item[1], reverse = True))\n",
    "print(sorted(dic.items(), key=lambda item:item[0], reverse = False))\n",
    "print(sorted(dic.items(), key=lambda item:item[1], reverse = False))\n",
    "\n",
    "sorted_dic=sorted(dic.items(), key=lambda item:item[1], reverse = False)\n",
    "print(sorted_dic)\n",
    "\n",
    "# 二维list取列，从sorted_dic中的每一行取第一个元素。\n",
    "sorted = [i[0] for i in sorted_dic] \n",
    "print(sorted)"
   ]
  },
  {
   "cell_type": "markdown",
   "metadata": {},
   "source": [
    "# str"
   ]
  },
  {
   "cell_type": "code",
   "execution_count": 5,
   "metadata": {},
   "outputs": [
    {
     "name": "stdout",
     "output_type": "stream",
     "text": [
      "<class 'str'>\n",
      ".egnaugnal lufrewop a si nohtyP\n",
      "abcdefg\n"
     ]
    }
   ],
   "source": [
    "a = 'Python is a powerful languange.'\n",
    "print(type(a))\n",
    "re_a = a[::-1]\n",
    "print(re_a)\n",
    "\n",
    "# 把列表的元素转化成一个字符串\n",
    "string = ['a','b','c','d','e','f','g']\n",
    "s=''.join(string)\n",
    "print(s)"
   ]
  },
  {
   "cell_type": "markdown",
   "metadata": {},
   "source": [
    "# 数据补齐或截断"
   ]
  },
  {
   "cell_type": "code",
   "execution_count": 6,
   "metadata": {
    "scrolled": true
   },
   "outputs": [
    {
     "name": "stdout",
     "output_type": "stream",
     "text": [
      "原数据\n",
      "[[1, 2, 4, 5, 6], [2, 5, 4, 4, 4, 4], [3, 9, 9, 4, 8, 4, 4, 4, 4]]\n",
      "在原数据后面填充\n",
      "[[1 2 4 5 6 0 0 0 0 0 0 0 0 0 0]\n",
      " [2 5 4 4 4 4 0 0 0 0 0 0 0 0 0]\n",
      " [3 9 9 4 8 4 4 4 4 0 0 0 0 0 0]]\n",
      "在原数据前面填充\n",
      "[[0 0 0 0 0 0 0 0 0 0 1 2 4 5 6]\n",
      " [0 0 0 0 0 0 0 0 0 2 5 4 4 4 4]\n",
      " [0 0 0 0 0 0 3 9 9 4 8 4 4 4 4]]\n",
      "原数据\n",
      "[[1, 2, 4, 5, 6], [2, 5, 4, 4, 4, 4], [3, 9, 9, 4, 8, 4, 4, 4, 4]]\n",
      "从原数据前面截断\n",
      "[[1 2 4]\n",
      " [2 5 4]\n",
      " [3 9 9]]\n",
      "从原数据后面截断\n",
      "[[4 5 6]\n",
      " [4 4 4]\n",
      " [4 4 4]]\n"
     ]
    }
   ],
   "source": [
    "from keras_preprocessing import sequence\n",
    "\n",
    "MaxLen=15\n",
    "x = [[1,2,4,5,6], [2,5,4,4,4,4,], [3,9,9,4,8,4,4,4,4,]]  # 特征\n",
    "y = [2, 4, 6]  # 标签\n",
    "print(\"原数据\")\n",
    "print(x)\n",
    "\n",
    "# padding padding='post'or padding='pre'------------------------\n",
    "print(\"在原数据后面填充\")\n",
    "# 用 0填充\n",
    "x0=sequence.pad_sequences(x,maxlen=MaxLen,value=0,padding='post')\n",
    "print(x0)   \n",
    "print(\"在原数据前面填充\")\n",
    "x1=sequence.pad_sequences(x,maxlen=MaxLen,value=0,padding='pre')\n",
    "print(x1)\n",
    "\n",
    "# 截断 truncating='post' or truncating='pre'-----------\n",
    "x = [[1,2,4,5,6], [2,5,4,4,4,4,], [3,9,9,4,8,4,4,4,4,]]  # 特征\n",
    "y = [2, 4, 6]  # 标签\n",
    "MaxLen=3\n",
    "print(\"原数据\")\n",
    "print(x)\n",
    "print(\"从原数据前面截断\")\n",
    "x0=sequence.pad_sequences(x,maxlen=MaxLen,value=0,truncating='post')\n",
    "print(x0)\n",
    "print(\"从原数据后面截断\")\n",
    "x1=sequence.pad_sequences(x,maxlen=MaxLen,value=0,truncating='pre')\n",
    "print(x1)"
   ]
  },
  {
   "cell_type": "markdown",
   "metadata": {},
   "source": [
    "# tensor 根据数据制作mask矩阵 与维度无关"
   ]
  },
  {
   "cell_type": "code",
   "execution_count": 7,
   "metadata": {},
   "outputs": [
    {
     "name": "stdout",
     "output_type": "stream",
     "text": [
      "tensor([1, 2, 3, 4, 9, 9, 9, 9], dtype=torch.int32)\n",
      "tensor([ True,  True,  True,  True, False, False, False, False])\n",
      "(1, 1, 8)\n",
      "torch.Size([8])\n",
      "tensor([1, 2, 3, 4, 9, 9, 9, 9], dtype=torch.int32)\n",
      "tensor([ True,  True,  True,  True, False, False, False, False])\n"
     ]
    },
    {
     "name": "stderr",
     "output_type": "stream",
     "text": [
      "<ipython-input-7-f5587617c37d>:11: UserWarning: To copy construct from a tensor, it is recommended to use sourceTensor.clone().detach() or sourceTensor.clone().detach().requires_grad_(True), rather than torch.tensor(sourceTensor).\n",
      "  x1=torch.tensor(x)\n"
     ]
    }
   ],
   "source": [
    "import torch\n",
    "import numpy as np\n",
    "\n",
    "x=np.array([1,2,3,4,9,9,9,9])\n",
    "x=torch.tensor(x)\n",
    "mask = torch.logical_not(torch.eq(x, torch.tensor(9)))\n",
    "print(x)\n",
    "print(mask)\n",
    "x1=np.array([[[1,2,3,4,9,9,9,9]]])\n",
    "print(x1.shape)\n",
    "x1=torch.tensor(x)\n",
    "print(x1.shape)\n",
    "mask = torch.logical_not(torch.eq(x1, torch.tensor(9)))\n",
    "print(x1)\n",
    "print(mask)"
   ]
  },
  {
   "cell_type": "markdown",
   "metadata": {},
   "source": [
    "# 根据mask矩阵对数据进行选择"
   ]
  },
  {
   "cell_type": "code",
   "execution_count": 8,
   "metadata": {},
   "outputs": [
    {
     "name": "stdout",
     "output_type": "stream",
     "text": [
      "<class 'torch.Tensor'>\n",
      "tensor([ True,  True,  True,  True, False, False, False, False])\n",
      "tensor([1, 2, 3, 4], dtype=torch.int32)\n"
     ]
    }
   ],
   "source": [
    "import torch\n",
    "import numpy as np\n",
    "\n",
    "x=np.array([1,2,3,4,9,9,9,9])\n",
    "x=torch.tensor(x)\n",
    "mask = torch.logical_not(torch.eq(x, torch.tensor(9)))\n",
    "print(type(mask))\n",
    "print(mask)\n",
    "print(torch.masked_select(x,mask))"
   ]
  },
  {
   "cell_type": "markdown",
   "metadata": {},
   "source": [
    "# crf库的使用"
   ]
  },
  {
   "cell_type": "code",
   "execution_count": 9,
   "metadata": {},
   "outputs": [
    {
     "name": "stdout",
     "output_type": "stream",
     "text": [
      "tensor([[[ 0.7994,  0.1552,  1.3501,  0.8890, -1.5365],\n",
      "         [ 0.5299, -0.4725, -0.8275,  1.0648,  0.3474],\n",
      "         [ 0.2667, -0.4837, -0.9915,  0.3845,  0.7956]],\n",
      "\n",
      "        [[-1.1033, -1.1506,  0.3938, -0.5144, -0.7207],\n",
      "         [ 1.0784, -0.3874,  0.9123,  0.5655,  0.4033],\n",
      "         [-0.7794, -1.7296,  0.4512,  0.4451,  1.0375]]])\n"
     ]
    },
    {
     "data": {
      "text/plain": [
       "[[2, 2], [3, 0], [4]]"
      ]
     },
     "execution_count": 9,
     "metadata": {},
     "output_type": "execute_result"
    }
   ],
   "source": [
    "import torch\n",
    "from torchcrf import CRF\n",
    " \n",
    "num_tags = 5  # number of tags is 5\n",
    "model = CRF(num_tags)\n",
    " \n",
    "seq_length = 3  # maximum sequence length in a batch\n",
    "batch_size = 2  # number of samples in the batch\n",
    " \n",
    "hidden= torch.randn(batch_size,seq_length,num_tags)\n",
    "print(hidden)\n",
    " \n",
    "mask = torch.tensor([[1, 1,1], [1, 1,0]], dtype=torch.uint8)\n",
    " \n",
    "tags = torch.tensor([[0,2,3], [1,4,1]], dtype=torch.long)  #(batch_size, seq_length)\n",
    " \n",
    "model(hidden,tags,mask)  # 计算对数似然（用于向前）\n",
    " \n",
    "model.decode(hidden,mask) # 解码（预测序列标签）"
   ]
  },
  {
   "cell_type": "markdown",
   "metadata": {},
   "source": [
    "# tensor 维度变化\n",
    "transpose只能选择tensor中两个维度进行转置，比如第1和2维转置："
   ]
  },
  {
   "cell_type": "code",
   "execution_count": 25,
   "metadata": {},
   "outputs": [
    {
     "name": "stdout",
     "output_type": "stream",
     "text": [
      "[[1, 3], [2, 4], [5, 6]]\n",
      "<class 'numpy.ndarray'>\n",
      "[[1 3]\n",
      " [2 4]\n",
      " [5 6]]\n",
      "(3, 2)\n",
      "[[1 2 5]\n",
      " [3 4 6]]\n"
     ]
    }
   ],
   "source": [
    "a=[[1,3],[2,4],[5,6]]\n",
    "print(a)\n",
    "a=np.array([[1,3],[2,4],[5,6]])\n",
    "print(type(a))\n",
    "print(a)\n",
    "print(a.shape)\n",
    "a=a.transpose(1,0)\n",
    "print(a)"
   ]
  },
  {
   "cell_type": "markdown",
   "metadata": {},
   "source": [
    "获取形状tensor.size() tensor.shape，可以通过tensor.size()或者tensor.shape得到。这两者不同的是tensor.szie()调用的是方法，tensor.shape访问的是张量的属性。相同的是两者返回的结果的数据类型都为torch.Size"
   ]
  },
  {
   "cell_type": "markdown",
   "metadata": {},
   "source": [
    "reshape 和view方法的结果是一致的，但是view没有开辟新的内存空间，而reshape开辟了新的内存空间。尽管reshape开辟了新的内存空间，但是指向的底层元素地址依旧没有变换 "
   ]
  },
  {
   "cell_type": "code",
   "execution_count": 51,
   "metadata": {},
   "outputs": [
    {
     "ename": "TypeError",
     "evalue": "Cannot interpret '-1' as a data type",
     "output_type": "error",
     "traceback": [
      "\u001b[1;31m---------------------------------------------------------------------------\u001b[0m",
      "\u001b[1;31mTypeError\u001b[0m                                 Traceback (most recent call last)",
      "\u001b[1;32m<ipython-input-51-ee7aa8b70cc6>\u001b[0m in \u001b[0;36m<module>\u001b[1;34m\u001b[0m\n\u001b[0;32m      1\u001b[0m \u001b[0ma\u001b[0m\u001b[1;33m=\u001b[0m\u001b[0mnp\u001b[0m\u001b[1;33m.\u001b[0m\u001b[0marray\u001b[0m\u001b[1;33m(\u001b[0m\u001b[1;33m[\u001b[0m\u001b[1;33m[\u001b[0m\u001b[1;36m1\u001b[0m\u001b[1;33m,\u001b[0m\u001b[1;36m3\u001b[0m\u001b[1;33m]\u001b[0m\u001b[1;33m,\u001b[0m\u001b[1;33m[\u001b[0m\u001b[1;36m2\u001b[0m\u001b[1;33m,\u001b[0m\u001b[1;36m4\u001b[0m\u001b[1;33m]\u001b[0m\u001b[1;33m,\u001b[0m\u001b[1;33m[\u001b[0m\u001b[1;36m5\u001b[0m\u001b[1;33m,\u001b[0m\u001b[1;36m6\u001b[0m\u001b[1;33m]\u001b[0m\u001b[1;33m]\u001b[0m\u001b[1;33m)\u001b[0m\u001b[1;33m\u001b[0m\u001b[1;33m\u001b[0m\u001b[0m\n\u001b[0;32m      2\u001b[0m \u001b[1;33m\u001b[0m\u001b[0m\n\u001b[1;32m----> 3\u001b[1;33m \u001b[0mprint\u001b[0m\u001b[1;33m(\u001b[0m\u001b[0ma\u001b[0m\u001b[1;33m.\u001b[0m\u001b[0mview\u001b[0m\u001b[1;33m(\u001b[0m\u001b[1;33m-\u001b[0m\u001b[1;36m1\u001b[0m\u001b[1;33m)\u001b[0m\u001b[1;33m)\u001b[0m\u001b[1;33m\u001b[0m\u001b[1;33m\u001b[0m\u001b[0m\n\u001b[0m\u001b[0;32m      4\u001b[0m \u001b[1;33m\u001b[0m\u001b[0m\n\u001b[0;32m      5\u001b[0m \u001b[0ma\u001b[0m\u001b[1;33m.\u001b[0m\u001b[0mreshape\u001b[0m\u001b[1;33m(\u001b[0m\u001b[1;33m(\u001b[0m\u001b[1;36m2\u001b[0m\u001b[1;33m,\u001b[0m\u001b[1;36m3\u001b[0m\u001b[1;33m,\u001b[0m\u001b[1;36m2\u001b[0m\u001b[1;33m)\u001b[0m\u001b[1;33m)\u001b[0m\u001b[1;33m\u001b[0m\u001b[1;33m\u001b[0m\u001b[0m\n",
      "\u001b[1;31mTypeError\u001b[0m: Cannot interpret '-1' as a data type"
     ]
    }
   ],
   "source": [
    "a=np.array([[1,3],[2,4],[5,6]])\n",
    "\n",
    "print(a.view(-1))\n",
    "\n",
    "a.reshape((2,3,2))"
   ]
  },
  {
   "cell_type": "markdown",
   "metadata": {},
   "source": [
    "# 获取形状tensor.size() tensor.shape"
   ]
  },
  {
   "cell_type": "code",
   "execution_count": 32,
   "metadata": {},
   "outputs": [
    {
     "name": "stdout",
     "output_type": "stream",
     "text": [
      "float64\n",
      "int32\n",
      "float32\n",
      "float64\n"
     ]
    }
   ],
   "source": [
    "import numpy as np\n",
    " \n",
    "a = np.array([2,3.2])\n",
    "print(a.dtype)\n",
    " \n",
    "a = np.array([2,3])\n",
    "print(a.dtype)\n",
    " \n",
    "a.dtype = 'float32'\n",
    "print(a.dtype)\n",
    " \n",
    "a.dtype = 'float64'\n",
    "print(a.dtype)"
   ]
  },
  {
   "cell_type": "markdown",
   "metadata": {},
   "source": [
    "# tensor创建规则"
   ]
  },
  {
   "cell_type": "code",
   "execution_count": null,
   "metadata": {},
   "outputs": [],
   "source": [
    "a1=torch.rand(3,3)#随机产生0-1之间的数值，不包括1\n",
    " \n",
    "b1 = torch.randint(1,10,[3,3])#随机产生1-10之间的整数，其shape为(3,3)\n",
    " \n",
    "c1=torch.normal(mean=torch.full([10],0),std=torch.arange(1,0,-0.1))\n",
    "#均值全为0，方差为[1,0.9,...,0.1]\n",
    "#第1个数据从N(0,1)中采样，第2个数据从N(0,0.9)中采样...第10个数据从N(0,0.1)中采样\n",
    " \n",
    "d1=torch.randn(3,3)"
   ]
  },
  {
   "cell_type": "markdown",
   "metadata": {},
   "source": [
    "# random \n",
    "\n",
    "https://blog.csdn.net/weixin_39374967/article/details/103655190"
   ]
  },
  {
   "cell_type": "markdown",
   "metadata": {},
   "source": [
    "# 写代码的统一规范：随机种子设置"
   ]
  },
  {
   "cell_type": "code",
   "execution_count": null,
   "metadata": {},
   "outputs": [],
   "source": [
    "SEED = 1210\n",
    "def seed_everything(seed):\n",
    "    random.seed(seed)\n",
    "    os.environ[\"PYTHONHASHSEED\"] = str(seed)\n",
    "    np.random.seed(seed)\n",
    "    torch.manual_seed(seed)\n",
    "    torch.cuda.manual_seed(seed)\n",
    "    torch.backends.cudnn.deterministic = True\n",
    "    torch.backends.cudnn.benchmark = False\n",
    "seed_everything(SEED) #设置几乎所有的随机种子 随机种子，可使得结果可复现"
   ]
  },
  {
   "cell_type": "markdown",
   "metadata": {},
   "source": [
    "# 在写代码的时候 统一使用 FloatTensor:torch.float32类型进行计算：\n",
    "\n",
    "PyTorch出现错误“RuntimeError: Found dtype Double but expected Float”\n",
    "\n",
    "如果a[FloatTensor]和b[DoubleTensor]是两个参与运算的张量，且有运算代码“loss = criterion(a,b)”,则会引发上面的问题。\n",
    "\n",
    "使用double()则会占用很多显存\n",
    "\n",
    "过用double():torch.float64 进行运算，不过这样显存占用会增大许多，而很可能出现显存爆炸的情况，所以最后还是使用FloatTensor:torch.float32类型。\n",
    "\n",
    "Pytorch里的tensor创建时默认是Torch.FloatTensor类型（torch.float32)"
   ]
  },
  {
   "cell_type": "code",
   "execution_count": null,
   "metadata": {},
   "outputs": [],
   "source": [
    "torch.set_default_tensor_type(torch.FloatTensor) #如果想要创建变量类型都是Float32 类型\n",
    " \n",
    "#创建 np.array的时候\n",
    "a = np.array([2,3.2])\n",
    "a.dtype = 'float32'\n",
    "\n",
    "# numpy转 tensor\n",
    "b=torch.from_numpy(a)# 数据类型不变 \n",
    " \n",
    "# 创建tensor的时候\n",
    "d=torch.FloatTensor([2,3.2])\n",
    " \n",
    "# 列表转tensor \n",
    "list_1=[2,3.2]\n",
    "d=torch.Tensor(list_1) #  torch.set_default_tensor_type(torch.FloatTensor) 这句话的作用 \n",
    "# print(d.dtype) #torch.float32\n",
    " \n",
    "# 一个小数直接转化成tensor \n",
    "t=torch.Tensor([3.01]) #torch.set_default_tensor_type(torch.FloatTensor) 这句话的作用 \n",
    "print(t)\n",
    "print(t.dtype)\n",
    "# tensor([3.0100])\n",
    "# torch.float32\n",
    " \n",
    "# 一个整数直接转化成 tensor \n",
    "y=torch.Tensor([5]) #torch.set_default_tensor_type(torch.FloatTensor) 这句话的作用 \n",
    "print(y)\n",
    "print(y.dtype)\n",
    "# tensor([5.])\n",
    "# torch.float32\n",
    " \n",
    "e=torch.Tensor(2) # 随机产生 数据tensor   #torch.set_default_tensor_type(torch.FloatTensor) 这句话的作用 \n",
    "print(e)\n",
    "print(e.dtype)\n",
    "# tensor([0.0000, 2.3125])\n",
    "# torch.float32"
   ]
  },
  {
   "cell_type": "markdown",
   "metadata": {},
   "source": [
    "# np.array 矩阵填充到固定长度"
   ]
  },
  {
   "cell_type": "code",
   "execution_count": null,
   "metadata": {},
   "outputs": [],
   "source": [
    "appended = np.zeros((20,5))\n",
    "appended[10:, :] = np.ones((1,5))[0]\n",
    "print(appended)"
   ]
  },
  {
   "cell_type": "markdown",
   "metadata": {},
   "source": [
    "# 生成器：a=(x*2 for x in range(10))"
   ]
  },
  {
   "cell_type": "markdown",
   "metadata": {},
   "source": [
    "1、什么是生成器？\n",
    "生成器仅仅保存了一套生成数值的算法，并且没有让这个算法现在就开始执行，而是我什么时候调它，它什么时候开始计算一个新的值，并给你返回。\n",
    "\n",
    "2、为什么要用生成器？\n",
    "列表所有数据都在内存中，如果有海量数据的话将会非常耗内存。\n",
    "如：仅仅需要访问前面几个元素，那后面绝大多数元素占用的空间都白白浪费了。\n",
    "如果列表元素按照某种算法推算出来，那我们就可以在循环的过程中不断推算出后续的元素，这样就不必创建完整的list，从而节省大量的空间。\n",
    "简单一句话：我又想要得到庞大的数据，又想让它占用空间少，那就用生成器"
   ]
  },
  {
   "cell_type": "code",
   "execution_count": 15,
   "metadata": {},
   "outputs": [
    {
     "name": "stdout",
     "output_type": "stream",
     "text": [
      "[0, 2, 4, 6, 8, 10, 12, 14, 16, 18]\n"
     ]
    }
   ],
   "source": [
    "a=(x*2 for x in range(10))\n",
    "print(list(a)) "
   ]
  },
  {
   "cell_type": "code",
   "execution_count": 14,
   "metadata": {},
   "outputs": [
    {
     "name": "stdout",
     "output_type": "stream",
     "text": [
      "<generator object <genexpr> at 0x000002500A3163C0>\n",
      "0\n",
      "2\n",
      "4\n",
      "6\n",
      "8\n",
      "10\n",
      "12\n",
      "14\n",
      "16\n",
      "18\n"
     ]
    }
   ],
   "source": [
    "a=(x*2 for x in range(10))\n",
    "print(a) \n",
    "for i in a:print(i)"
   ]
  },
  {
   "cell_type": "markdown",
   "metadata": {},
   "source": [
    "方法二， 如果一个函数中包含yield关键字，那么这个函数就不再是一个普通函数，而是一个generator。调用函数就是创建了一个生成器（generator）对象。"
   ]
  },
  {
   "cell_type": "code",
   "execution_count": 17,
   "metadata": {
    "scrolled": true
   },
   "outputs": [
    {
     "name": "stdout",
     "output_type": "stream",
     "text": [
      "starting...\n",
      "4\n",
      "********************\n",
      "res: None\n",
      "4\n",
      "********************\n",
      "res: 7\n",
      "4\n"
     ]
    }
   ],
   "source": [
    "# yield\n",
    "# 就是在程序中返回某个值，返回之后程序就不再往下运行了。\n",
    "# 下一次调用这个函数的时候会接着这个 yield 的下一句代码执行。\n",
    "def foo():\n",
    "    print(\"starting...\")\n",
    "    while True:\n",
    "        res = yield 4\n",
    "        print(\"res:\",res)\n",
    "g = foo()\n",
    "print(next(g))\n",
    "print(\"*\"*20)\n",
    "print(next(g))\n",
    "print(\"*\"*20)\n",
    "print(g.send(7))"
   ]
  },
  {
   "cell_type": "markdown",
   "metadata": {},
   "source": [
    "1.程序开始执行以后，因为foo函数中有yield关键字，所以foo函数并不会真的执行，而是先得到一个生成器g(相当于一个对象)\n",
    "\n",
    "2.直到调用next方法，foo函数正式开始执行，先执行foo函数中的print方法，然后进入while循环\n",
    "\n",
    "3.程序遇到yield关键字，然后把yield想想成return,return了一个4之后，程序停止，并没有执行赋值给res操作，此时next(g)语句执行完成，所以输出的前两行（第一个是while上面的print的结果,第二个是return出的结果）是执行print(next(g))的结果，\n",
    "\n",
    "4.程序执行print(\"*\"*20)，输出20个*\n",
    "\n",
    "5.又开始执行下面的print(next(g)),这个时候和上面那个差不多，不过不同的是，这个时候是从刚才那个next程序停止的地方开始执行的，也就是要执行res的赋值操作，这时候要注意，这个时候赋值操作的右边是没有值的（因为刚才那个是return出去了，并没有给赋值操作的左边传参数），所以这个时候res赋值是None,所以接着下面的输出就是res:None,\n",
    "\n",
    "6.程序会继续在while里执行，又一次碰到yield,这个时候同样return 出4，然后程序停止，print函数输出的4就是这次return出的4.\n",
    "\n",
    "7.程序执行g.send(7)，程序会从yield关键字那一行继续向下运行，send会把7这个值赋值给res变量\n",
    "\n",
    "8.由于send方法中包含next()方法，所以程序会继续向下运行执行print方法，然后再次进入while循环\n",
    "\n",
    "9.程序执行再次遇到yield关键字，yield会返回后面的值后，程序再次暂停，直到再次调用next方法或send方法。"
   ]
  },
  {
   "cell_type": "markdown",
   "metadata": {},
   "source": [
    "# pandas datetime 模块的使用："
   ]
  },
  {
   "cell_type": "code",
   "execution_count": null,
   "metadata": {},
   "outputs": [],
   "source": [
    "# 先用这个函数来识别这一列 ：\n",
    "train2018['Time_time'] = pd.to_datetime(train2018['Time'])\n",
    "train2019['Time_time'] = pd.to_datetime(train2019['Time'])\n",
    "train2020['Time_time'] = pd.to_datetime(train2020['Time'])\n",
    "test['Time_time'] = pd.to_datetime(test['Time'])\n",
    " \n",
    " \n",
    "# 就可以根据这个固定的格式来进行筛选了\n",
    " \n",
    "train2019Mon2 = train2019[(train2019['Time_time'] >= '2019-2-1') & (train2019['Time_time'] <= '2019-2-28')]\n",
    "train2019Mon1 = train2019[(train2019['Time_time'] >= '2019-1-1') & (train2019['Time_time'] <= '2019-1-28')]"
   ]
  },
  {
   "cell_type": "markdown",
   "metadata": {},
   "source": [
    "# 匿名函数 ：a= lambda x,y: (x*y+1,y**2)"
   ]
  },
  {
   "cell_type": "code",
   "execution_count": 35,
   "metadata": {
    "scrolled": true
   },
   "outputs": [
    {
     "name": "stdout",
     "output_type": "stream",
     "text": [
      "(7, 4)\n",
      "<class 'tuple'>\n",
      "(3, 4)\n"
     ]
    }
   ],
   "source": [
    "a= lambda x,y: (x*y+1,y**2)\n",
    "# a= lambda x,y: [x*y+1,y**2]\n",
    "#    输入变量：  输入的变量进行什么操作\n",
    "print(a(3,2))\n",
    "b=a(1,2)\n",
    "print(type(b))\n",
    "print(b)"
   ]
  },
  {
   "cell_type": "markdown",
   "metadata": {},
   "source": [
    "# apply"
   ]
  },
  {
   "cell_type": "code",
   "execution_count": 12,
   "metadata": {
    "scrolled": true
   },
   "outputs": [
    {
     "name": "stdout",
     "output_type": "stream",
     "text": [
      "df:\n",
      "                b         d         e\n",
      "utah   -0.037644  0.288407  0.952890\n",
      "ohio   -1.601297  0.075755 -0.310165\n",
      "texas  -1.070995 -0.251691  0.670183\n",
      "oregon  1.706271  1.642536 -0.806289\n",
      "t1:\n",
      " b    3.307568\n",
      "d    1.894227\n",
      "e    1.759178\n",
      "dtype: float64\n",
      "t2:\n",
      " utah      0.990534\n",
      "ohio      1.677052\n",
      "texas     1.741178\n",
      "oregon    2.512560\n",
      "dtype: float64\n",
      "t3:\n",
      "             b         d         e\n",
      "min -1.601297 -0.251691 -0.806289\n",
      "max  1.706271  1.642536  0.952890\n",
      "t3:\n",
      "             b      d      e\n",
      "utah    -0.04   0.29   0.95\n",
      "ohio    -1.60   0.08  -0.31\n",
      "texas   -1.07  -0.25   0.67\n",
      "oregon   1.71   1.64  -0.81\n",
      "t4:\n",
      " utah       0.95\n",
      "ohio      -0.31\n",
      "texas      0.67\n",
      "oregon    -0.81\n",
      "Name: e, dtype: object\n"
     ]
    },
    {
     "data": {
      "text/plain": [
       "'\\nutah     0.74\\nohio     0.47\\ntexas   -0.66\\noregon  -0.15\\n'"
      ]
     },
     "execution_count": 12,
     "metadata": {},
     "output_type": "execute_result"
    }
   ],
   "source": [
    "#函数应用和映射\n",
    "import numpy as np\n",
    "import pandas as pd\n",
    "df=pd.DataFrame(np.random.randn(4,3),columns=list('bde'),index=['utah','ohio','texas','oregon'])\n",
    "print('df:\\n',df)\n",
    "\"\"\"\n",
    "               b         d         e\n",
    "utah   -0.667969  1.974801  0.738890\n",
    "ohio   -0.896774 -0.790914  0.474183\n",
    "texas   0.043476  0.890176 -0.662676\n",
    "oregon  0.701109 -2.238288 -0.154442\n",
    "\"\"\"\n",
    " \n",
    "#将函数应用到由各列或行形成的一维数组上。DataFrame的apply方法可以实现此功能\n",
    "f=lambda x:x.max()-x.min()\n",
    "#默认情况下会以列为单位，分别对列应用函数\n",
    "t1=df.apply(f)\n",
    "print('t1:\\n',t1)\n",
    "t2=df.apply(f,axis=1)\n",
    "print('t2:\\n',t2)\n",
    " \n",
    "\"\"\"\n",
    "b    1.597883\n",
    "d    4.213089\n",
    "e    1.401566\n",
    "dtype: float64\n",
    "utah      2.642770\n",
    "ohio      1.370957\n",
    "texas     1.552852\n",
    "oregon    2.939397\n",
    "dtype: float64\n",
    "\"\"\"\n",
    " \n",
    "#除标量外，传递给apply的函数还可以返回由多个值组成的Series\n",
    "def f(x):\n",
    "    return pd.Series([x.min(),x.max()],index=['min','max'])\n",
    "t3=df.apply(f)\n",
    "#从运行的结果可以看出，按列调用的顺序，调用函数运行的结果在右边依次追加\n",
    "print('t3:\\n',t3)\n",
    " \n",
    "\"\"\"\n",
    "            b         d         e\n",
    "min -0.896774 -2.238288 -0.662676\n",
    "max  0.701109  1.974801  0.738890\n",
    "\"\"\"\n",
    " \n",
    "#元素级的python函数，将函数应用到每一个元素\n",
    "#将DataFrame中的各个浮点值保留两位小数\n",
    "f=lambda x: '%.2f'%x\n",
    "t3=df.applymap(f)\n",
    "print('t3:\\n',t3)\n",
    "\"\"\"\n",
    "            b      d      e\n",
    "utah    -0.67   1.97   0.74\n",
    "ohio    -0.90  -0.79   0.47\n",
    "texas    0.04   0.89  -0.66\n",
    "oregon   0.70  -2.24  -0.15\n",
    "\"\"\"\n",
    " \n",
    "#注意，之所以这里用map,是因为Series有一个元素级函数的map方法。而dataframe只有applymap。\n",
    "t4=df['e'].map(f)\n",
    "print('t4:\\n',t4)\n",
    " \n",
    "\"\"\"\n",
    "utah     0.74\n",
    "ohio     0.47\n",
    "texas   -0.66\n",
    "oregon  -0.15\n",
    "\"\"\""
   ]
  },
  {
   "cell_type": "markdown",
   "metadata": {},
   "source": [
    "# 异常处理："
   ]
  },
  {
   "cell_type": "code",
   "execution_count": null,
   "metadata": {},
   "outputs": [],
   "source": [
    "try:\n",
    "    data=pd.read_csv(\"www.csv\")\n",
    "except : # 跳过所有类型的异常  也可以写上异常的命名称\n",
    "    print (\"Error: 没有找到文件或读取文件失败\")"
   ]
  },
  {
   "cell_type": "markdown",
   "metadata": {},
   "source": [
    "# pandas  DataFrame表格 "
   ]
  },
  {
   "cell_type": "code",
   "execution_count": null,
   "metadata": {},
   "outputs": [],
   "source": [
    "# 生成空dataframe\n",
    "ip_id=pd.DataFrame(columns=[\"user_id\",\"ip\",'judgetime'])\n",
    "\n",
    "# 两个dataframe相连接，append\n",
    "df1 = df1.append(df2) # 一定要再赋值回去"
   ]
  },
  {
   "cell_type": "code",
   "execution_count": null,
   "metadata": {},
   "outputs": [],
   "source": [
    "# 删除重复的行\n",
    "df.drop_duplicates()             #保留第一个值，返回副本\n",
    "df.drop_duplicates(keep='last')  #保留最后一个值，返回副本\n",
    "df.drop_duplicates(keep=False)   #删除所有重复值，返回副本\n",
    "df.drop_duplicates('k1')         #删除第一列重复值，返回副本\n",
    "df.drop_duplicates(['k1','k2'])  #删除全部列重复值，返回副本"
   ]
  },
  {
   "cell_type": "code",
   "execution_count": 20,
   "metadata": {},
   "outputs": [
    {
     "name": "stdout",
     "output_type": "stream",
     "text": [
      "     名字  idx\n",
      "0  wang    5\n",
      "1  song    1\n",
      "2  chen    0\n",
      "     名字  idx\n",
      "2  chen    0\n",
      "1  song    1\n",
      "0  wang    5\n"
     ]
    }
   ],
   "source": [
    "# 根据某一列数值进行排序\n",
    "# 按照行生成 DataFrame\n",
    "daliebiao=[]\n",
    "daliebiao.append([\"wang\",5,])\n",
    "daliebiao.append([\"song\",1,])\n",
    "daliebiao.append([\"chen\",0])\n",
    "columns=[\"名字\",\"idx\"]\n",
    " \n",
    "df=pd.DataFrame(data=daliebiao,columns=columns)\n",
    "print(df)\n",
    "df=df.sort_values('idx').drop_duplicates() \n",
    "print(df)"
   ]
  },
  {
   "cell_type": "code",
   "execution_count": 25,
   "metadata": {},
   "outputs": [
    {
     "data": {
      "text/plain": [
       "{'我是第0个': 0, '我是第1个': 1, '我是第2个': 2, '我是第3个': 3, '我是第4个': 4}"
      ]
     },
     "execution_count": 25,
     "metadata": {},
     "output_type": "execute_result"
    }
   ],
   "source": [
    "# 集合嵌套for 循环生成 \n",
    "jihe={\"我是第\"+str(i)+\"个\":i for i in range(5) }\n",
    "jihe"
   ]
  },
  {
   "cell_type": "code",
   "execution_count": 27,
   "metadata": {},
   "outputs": [
    {
     "name": "stdout",
     "output_type": "stream",
     "text": [
      "3\n",
      "2\n"
     ]
    }
   ],
   "source": [
    "s=[1,2,3]\n",
    "# [-1]:最后一个元素\n",
    "print(s[-1])\n",
    "# [-2]:倒数第二个元素\n",
    "print(s[-2])"
   ]
  },
  {
   "cell_type": "markdown",
   "metadata": {},
   "source": [
    "# 列表循环生成字典"
   ]
  },
  {
   "cell_type": "code",
   "execution_count": 28,
   "metadata": {},
   "outputs": [
    {
     "name": "stdout",
     "output_type": "stream",
     "text": [
      "{1: 0, 2: 1, 3: 2, 4: 3}\n",
      "{0: 1, 1: 2, 2: 3, 3: 4}\n"
     ]
    }
   ],
   "source": [
    "b=[1,2,3,4,]\n",
    "a={word: idx for idx, word in enumerate(b)}\n",
    "b={idx: word for idx, word in enumerate(b)}\n",
    "print(a)\n",
    "print(b)"
   ]
  },
  {
   "cell_type": "markdown",
   "metadata": {},
   "source": [
    "# 字符串列表　逆置"
   ]
  },
  {
   "cell_type": "code",
   "execution_count": 29,
   "metadata": {},
   "outputs": [
    {
     "name": "stdout",
     "output_type": "stream",
     "text": [
      ".egnaugnal lufrewop a si nohtyP\n"
     ]
    }
   ],
   "source": [
    "a = 'Python is a powerful languange.'\n",
    "re_a = a[::-1]\n",
    "print(re_a)"
   ]
  },
  {
   "cell_type": "markdown",
   "metadata": {},
   "source": [
    "# 得到列表元素的下标"
   ]
  },
  {
   "cell_type": "code",
   "execution_count": 30,
   "metadata": {},
   "outputs": [
    {
     "name": "stdout",
     "output_type": "stream",
     "text": [
      "1\n"
     ]
    }
   ],
   "source": [
    "a = ['a', 'b', 'c', 'd', 'e', 'f']\n",
    " \n",
    "a_i = a.index(\"b\")\n",
    "print(a_i)"
   ]
  },
  {
   "cell_type": "markdown",
   "metadata": {},
   "source": [
    "# 把列表的元素转化成一个字符串"
   ]
  },
  {
   "cell_type": "code",
   "execution_count": 31,
   "metadata": {},
   "outputs": [
    {
     "name": "stdout",
     "output_type": "stream",
     "text": [
      "abcdefg\n"
     ]
    }
   ],
   "source": [
    "string = ['a','b','c','d','e','f','g']\n",
    "s=''.join(string)\n",
    "print(s)"
   ]
  },
  {
   "cell_type": "markdown",
   "metadata": {},
   "source": [
    "# if else 语句 简写"
   ]
  },
  {
   "cell_type": "code",
   "execution_count": 32,
   "metadata": {},
   "outputs": [
    {
     "name": "stdout",
     "output_type": "stream",
     "text": [
      "100\n",
      "你好\n"
     ]
    }
   ],
   "source": [
    "a=0\n",
    "a=100 if a>-1 else 1\n",
    "print(a)\n",
    "a=0\n",
    "a=\"你好\" if a>-1 else 1\n",
    "print(a)"
   ]
  },
  {
   "cell_type": "markdown",
   "metadata": {},
   "source": [
    "# python 定义单链表结构 "
   ]
  },
  {
   "cell_type": "code",
   "execution_count": 33,
   "metadata": {},
   "outputs": [
    {
     "name": "stdout",
     "output_type": "stream",
     "text": [
      "None <__main__.Node object at 0x000002500A3120A0> <__main__.Node object at 0x000002500A3121F0>\n",
      "1 2 3\n"
     ]
    }
   ],
   "source": [
    "class Node():\n",
    "    '''定义单链表节点类'''\n",
    "    def __init__(self,data,next = None):\n",
    "        '''data为数据项，next为下一节点的链接，初始化节点默认链接为None'''\n",
    "        self.data = data\n",
    "        self.next = next\n",
    "# 定义3个节点对象分别为node1、node2和node3\n",
    " \n",
    "node1 = Node(1,None)\n",
    "node2 = Node(2,node1)\n",
    "node3 = Node(3,node2)\n",
    "print(node1.next,node2.next ,node3.next)\n",
    "print(node1.data,node2.data ,node3.data)"
   ]
  },
  {
   "cell_type": "markdown",
   "metadata": {},
   "source": [
    "# 列表元素逆置 "
   ]
  },
  {
   "cell_type": "code",
   "execution_count": 34,
   "metadata": {},
   "outputs": [
    {
     "name": "stdout",
     "output_type": "stream",
     "text": [
      "[2, 9, 7, 6, 5, 4, 3, 1]\n"
     ]
    }
   ],
   "source": [
    "lists = [1,3,4,5,6,7,9,2]\n",
    "# 切片\n",
    "print(lists[::-1])"
   ]
  },
  {
   "cell_type": "markdown",
   "metadata": {},
   "source": [
    "# 获取目录文件下面的文件名称"
   ]
  },
  {
   "cell_type": "code",
   "execution_count": 35,
   "metadata": {
    "scrolled": true
   },
   "outputs": [
    {
     "ename": "NameError",
     "evalue": "name 'os' is not defined",
     "output_type": "error",
     "traceback": [
      "\u001b[1;31m---------------------------------------------------------------------------\u001b[0m",
      "\u001b[1;31mNameError\u001b[0m                                 Traceback (most recent call last)",
      "\u001b[1;32m<ipython-input-35-28012a79396d>\u001b[0m in \u001b[0;36m<module>\u001b[1;34m\u001b[0m\n\u001b[1;32m----> 1\u001b[1;33m \u001b[0mquery_namejpg\u001b[0m\u001b[1;33m=\u001b[0m \u001b[0mos\u001b[0m\u001b[1;33m.\u001b[0m\u001b[0mlistdir\u001b[0m\u001b[1;33m(\u001b[0m\u001b[1;34m\"samples_test_support/query/0\"\u001b[0m\u001b[1;33m)\u001b[0m\u001b[1;33m\u001b[0m\u001b[1;33m\u001b[0m\u001b[0m\n\u001b[0m\u001b[0;32m      2\u001b[0m \u001b[0mprint\u001b[0m\u001b[1;33m(\u001b[0m\u001b[0mquery_namejpg\u001b[0m\u001b[1;33m[\u001b[0m\u001b[1;36m0\u001b[0m\u001b[1;33m:\u001b[0m\u001b[1;36m10\u001b[0m\u001b[1;33m]\u001b[0m\u001b[1;33m)\u001b[0m\u001b[1;33m\u001b[0m\u001b[1;33m\u001b[0m\u001b[0m\n",
      "\u001b[1;31mNameError\u001b[0m: name 'os' is not defined"
     ]
    }
   ],
   "source": [
    "query_namejpg= os.listdir(\"samples_test_support/query/0\")\n",
    "print(query_namejpg[0:10])"
   ]
  },
  {
   "cell_type": "markdown",
   "metadata": {},
   "source": [
    "# for 循环的另一种写法 "
   ]
  },
  {
   "cell_type": "code",
   "execution_count": 37,
   "metadata": {
    "scrolled": true
   },
   "outputs": [
    {
     "name": "stdout",
     "output_type": "stream",
     "text": [
      "[1, 2, 3, 4, 5, 6, 7, 8, 9, 10, 11, 12, 13, 14, 15, 16, 17, 18, 19, 20, 21, 22, 23, 24, 25, 26, 27, 28, 29, 30, 31, 32, 33, 34, 35, 36, 37, 38, 39, 40, 41, 42, 43, 44, 45, 46, 47, 48, 49, 50, 51, 52, 53, 54, 55, 56, 57, 58, 59, 60, 61, 62, 63, 64, 65, 66, 67, 68, 69, 70, 71, 72, 73, 74, 75, 76, 77, 78, 79, 80, 81, 82, 83, 84, 85, 86, 87, 88, 89, 90, 91, 92, 93, 94, 95, 96, 97, 98, 99, 100]\n"
     ]
    }
   ],
   "source": [
    "num = [x for x in range(1,101,1)]\n",
    "print(num)"
   ]
  },
  {
   "cell_type": "markdown",
   "metadata": {},
   "source": [
    "# python 定义类 实例化类所需要的参数和外部传参数"
   ]
  },
  {
   "cell_type": "code",
   "execution_count": 39,
   "metadata": {},
   "outputs": [
    {
     "name": "stdout",
     "output_type": "stream",
     "text": [
      "16\n",
      "8\n"
     ]
    }
   ],
   "source": [
    "class aceshi():\n",
    "        def __init__(self,sum):\n",
    "            self.sum=sum\n",
    "            \n",
    "        def call(self,d):\n",
    "            return self.sum*d\n",
    "aceshi=aceshi(4)  # 实例化对象  就相当于倪创建了一个对象 对象有sum 这个属性 然后你在实例化你这个对象的时候 要 把 sum这个属性赋值 \n",
    "a=aceshi.call(4) # def call(self,d):对象中定义了一个函数 ，需要传入一个外部的参数 d 所以你先实例化 对象然后再从 外部传参数 ！ \n",
    "print(a)\n",
    "\n",
    "class aceshi():\n",
    "        def __init__(self,sum):\n",
    "            self.sum=sum\n",
    "            \n",
    "        def call(self,d):\n",
    "            return self.sum*d\n",
    "a=aceshi(4).call(2)  # 实例化对象 \n",
    "print(a)"
   ]
  },
  {
   "cell_type": "markdown",
   "metadata": {},
   "source": [
    "# python 类传参数 def test_kwargs(first, *args, **kwargs):"
   ]
  },
  {
   "cell_type": "code",
   "execution_count": 40,
   "metadata": {},
   "outputs": [
    {
     "name": "stdout",
     "output_type": "stream",
     "text": [
      "first:  1\n",
      "<class 'dict'>\n",
      "v in  (args):  2\n",
      "v in  (args):  3\n",
      "v in  (args):  4\n",
      "k1 5\n",
      "k2 6\n",
      "k3 0\n"
     ]
    }
   ],
   "source": [
    "# 正如前面所说的，args类型是一个tuple，而kwargs则是一个字典dict，并且args只能位于kwargs的前面。代码的运行结果如下\n",
    "# **kwargs则是将一个可变的关键字参数的字典传给函数实参，同样参数列表长度可以为0或为其他值\n",
    "# *args就是就是传递一个可变参数元组给函数实参 不是列表，这个参数列表的数目未知，甚至长度可以为0\n",
    "def test_kwargs(first, *args, **kwargs):\n",
    "        print('first: ', first)\n",
    "        print(type(kwargs))\n",
    "        for v in args:\n",
    "          print ('v in  (args): ', v)\n",
    "        for k, v in kwargs.items():\n",
    "          print (k, v)\n",
    " \n",
    "test_kwargs(1, 2, 3, 4, k1=5, k2=6,k3=0)"
   ]
  },
  {
   "cell_type": "markdown",
   "metadata": {},
   "source": [
    "# python 类"
   ]
  },
  {
   "cell_type": "code",
   "execution_count": 41,
   "metadata": {},
   "outputs": [
    {
     "name": "stdout",
     "output_type": "stream",
     "text": [
      "------类实例化+打印类属性值-------\n",
      "wang\n",
      "19\n",
      "------类实例化+调用类函数-------\n",
      "Wang\n",
      "19\n",
      "Wang—+sit()\n",
      "None\n",
      "------创建多个实例化类-------\n",
      "周\n",
      "-----类：属性赋值-----\n",
      "王\n",
      "22\n",
      "-----类实例化：修改属性值-----\n",
      "周\n",
      "100\n",
      "-----类里定义函数：修改属性值-----\n",
      "30\n",
      "-----继承父类+子类新建赋值+函数操作-----\n",
      "李 21 170\n",
      "None\n",
      "李 21 170\n",
      "李--21--170\n",
      "-----继承父类+重写父类方法+子类调用父类方法+函数操作-----\n",
      "李\n",
      "李—+sit()\n",
      "重写父类roll方法\n",
      "None\n"
     ]
    }
   ],
   "source": [
    "class Dog():# 类的首字母要大写\n",
    "    def __init__(self,name,age):\n",
    "        # self会自动传递后边的参数 name,age \n",
    "        self.name=name\n",
    "        self.age=age\n",
    "        \n",
    "    def sit(self):\n",
    "        print(self.name.title())\n",
    "        return self.name.title()+\"—+sit()\"\n",
    "    \n",
    "    def roll(self):\n",
    "        print(self.age)\n",
    "        \n",
    "    def modify_age(self,name1):\n",
    "        self.age=name1\n",
    "        \n",
    "class Dog_son(Dog):\n",
    "        def __init__(self,name,age):#初始化父类的属性\n",
    "            super().__init__(name,age) # super 超类 \n",
    "            self.high=\"170\" #子类新建的属性\n",
    "            \n",
    "        def high_1(self):\n",
    "            print(self.name,self.age,self.high)\n",
    "         \n",
    "        def high_2(self):\n",
    "            print(self.name,self.age,self.high)\n",
    "            return self.name+\"--\"+self.age+\"--\"+self.high\n",
    "        \n",
    "        def roll(self):\n",
    "            print(\"重写父类roll方法\")\n",
    " \n",
    " \n",
    "print(\"------类实例化+打印类属性值-------\")      \n",
    "my_dag=Dog(\"wang\",\"19\")\n",
    "print(my_dag.name)\n",
    "print(my_dag.age)\n",
    " \n",
    "print(\"------类实例化+调用类函数-------\")\n",
    "sit=my_dag.sit()\n",
    "roll=my_dag.roll()\n",
    "print(sit)\n",
    "print(roll)\n",
    " \n",
    "print(\"------创建多个实例化类-------\")\n",
    "you_dog=Dog(\"周\",\"26\")\n",
    "print(you_dog.name)\n",
    " \n",
    "print(\"-----类：属性赋值-----\")\n",
    "Dog.name=\"王\"\n",
    "Dog.age=\"22\"\n",
    "print(Dog.name)\n",
    "print(Dog.age)\n",
    " \n",
    "print(\"-----类实例化：修改属性值-----\")\n",
    "you_dog.age=\"100\"\n",
    "print(you_dog.name)\n",
    "print(you_dog.age)\n",
    " \n",
    "print(\"-----类里定义函数：修改属性值-----\")\n",
    "her_dog=Dog(\"张\",\"10\")\n",
    "her_dog.modify_age(\"30\")\n",
    "print(her_dog.age)\n",
    " \n",
    "print(\"-----继承父类+子类新建赋值+函数操作-----\")\n",
    "a_dog=Dog_son(\"李\",\"21\")\n",
    " \n",
    "print(a_dog.high_1())\n",
    "print(a_dog.high_2())\n",
    " \n",
    "print(\"-----继承父类+重写父类方法+子类调用父类方法+函数操作-----\")\n",
    "a_dog=Dog_son(\"李\",\"21\")\n",
    "print(a_dog.sit())\n",
    "print(a_dog.roll())"
   ]
  },
  {
   "cell_type": "markdown",
   "metadata": {},
   "source": [
    "# 类的注意事项和参数问题："
   ]
  },
  {
   "cell_type": "code",
   "execution_count": 43,
   "metadata": {},
   "outputs": [
    {
     "name": "stdout",
     "output_type": "stream",
     "text": [
      "王 00\n",
      "None\n"
     ]
    }
   ],
   "source": [
    "class Dog():# 类的首字母要大写\n",
    "    def __init__(self,name,age):\n",
    "        # self 这时候调用类或者实例化，必须传入参数！\n",
    "        self.name=\"王\"\n",
    "        self.age=\"00\"\n",
    "    def prin(self):\n",
    "        print(self.name,self.age)\n",
    "a=Dog(\"张\",\"10\")# 传参也不管用 还是使用的：self.name=\"王\" self.age=\"00\"这两个参数 \n",
    "print(a.prin())"
   ]
  },
  {
   "cell_type": "code",
   "execution_count": 44,
   "metadata": {},
   "outputs": [
    {
     "name": "stdout",
     "output_type": "stream",
     "text": [
      "张 10\n",
      "None\n"
     ]
    }
   ],
   "source": [
    "class Dog_t():# 类的首字母要大写\n",
    "    def __init__(self,name,age):\n",
    "        # self 这时候调用类或者实例化，必须传入参数！\n",
    "        self.name=name\n",
    "        self.age=age\n",
    "    def prin(self):\n",
    "        print(self.name,self.age)\n",
    "a=Dog_t(\"张\",\"10\")# 使用传入的参数,Dog_t(\"张\",\"10\")\n",
    "print(a.prin())"
   ]
  },
  {
   "cell_type": "code",
   "execution_count": 45,
   "metadata": {},
   "outputs": [
    {
     "name": "stdout",
     "output_type": "stream",
     "text": [
      "wang 00\n",
      "None\n"
     ]
    }
   ],
   "source": [
    "class Dog_g():# 类的首字母要大写\n",
    "    def __init__(self):\n",
    "        # self后边没东西，这时候不需要串参数！\n",
    "        self.name=\"wang\"\n",
    "        self.age=\"00\"\n",
    "    def prin(self):\n",
    "        print(self.name,self.age)\n",
    "a=Dog_g() # Dog(\"张\",\"10\") 传参会报错！\n",
    "print(a.prin())"
   ]
  },
  {
   "cell_type": "markdown",
   "metadata": {},
   "source": [
    "# python计算阶乘"
   ]
  },
  {
   "cell_type": "code",
   "execution_count": 46,
   "metadata": {},
   "outputs": [
    {
     "name": "stdout",
     "output_type": "stream",
     "text": [
      "6\n"
     ]
    }
   ],
   "source": [
    "from functools import reduce\n",
    "n = 3\n",
    "print(reduce(lambda x,y:x*y,range(1,n+1)))"
   ]
  },
  {
   "cell_type": "markdown",
   "metadata": {},
   "source": [
    "# 生成全0的tensor"
   ]
  },
  {
   "cell_type": "code",
   "execution_count": 48,
   "metadata": {},
   "outputs": [
    {
     "name": "stdout",
     "output_type": "stream",
     "text": [
      "tensor([0., 0., 0., 0., 0., 0., 0., 0.], dtype=torch.float64)\n"
     ]
    }
   ],
   "source": [
    "a=torch.zeros(1,8,dtype=torch.float64)[0]\n",
    "print(a)"
   ]
  },
  {
   "cell_type": "markdown",
   "metadata": {},
   "source": [
    "# python内置函数"
   ]
  },
  {
   "cell_type": "code",
   "execution_count": 49,
   "metadata": {},
   "outputs": [
    {
     "data": {
      "text/plain": [
       "[1, 40, 98, 100, 102]"
      ]
     },
     "execution_count": 49,
     "metadata": {},
     "output_type": "execute_result"
    }
   ],
   "source": [
    "# 1)对于一个列表排序\n",
    "sorted([100, 98, 102, 1, 40])"
   ]
  },
  {
   "cell_type": "code",
   "execution_count": 50,
   "metadata": {},
   "outputs": [
    {
     "name": "stdout",
     "output_type": "stream",
     "text": [
      "[{1: 9}, {1: 5, 3: 4}, {1: 3, 6: 3}, {1: 1, 2: 4, 5: 6}]\n"
     ]
    }
   ],
   "source": [
    "# 2)通过key参数/函数\n",
    "# 比如一个长列表里面嵌套了很多字典元素，我们要按照每个元素的长度大小排序\n",
    "L = [{1:5,3:4},{1:3,6:3},{1:1,2:4,5:6},{1:9}]\n",
    "new_line=sorted(L,key=lambda x:len(x))\n",
    "print(new_line)"
   ]
  },
  {
   "cell_type": "code",
   "execution_count": 51,
   "metadata": {},
   "outputs": [
    {
     "name": "stdout",
     "output_type": "stream",
     "text": [
      "[('zhang', 'B', 10), ('li', 'B', 12), ('wang', 'A', 15)]\n"
     ]
    }
   ],
   "source": [
    "# 3)对由tuple组成的List排序\n",
    "students = [('wang', 'A', 15), ('li', 'B', 12), ('zhang', 'B', 10)]   \n",
    "print(sorted(students, key=lambda student : student[2]))"
   ]
  },
  {
   "cell_type": "code",
   "execution_count": 52,
   "metadata": {},
   "outputs": [
    {
     "ename": "TypeError",
     "evalue": "'cmp' is an invalid keyword argument for sort()",
     "output_type": "error",
     "traceback": [
      "\u001b[1;31m---------------------------------------------------------------------------\u001b[0m",
      "\u001b[1;31mTypeError\u001b[0m                                 Traceback (most recent call last)",
      "\u001b[1;32m<ipython-input-52-8b2173308836>\u001b[0m in \u001b[0;36m<module>\u001b[1;34m\u001b[0m\n\u001b[0;32m      1\u001b[0m \u001b[1;31m# 4）用cmp函数排序\u001b[0m\u001b[1;33m\u001b[0m\u001b[1;33m\u001b[0m\u001b[1;33m\u001b[0m\u001b[0m\n\u001b[0;32m      2\u001b[0m \u001b[0mstudents\u001b[0m \u001b[1;33m=\u001b[0m \u001b[1;33m[\u001b[0m\u001b[1;33m(\u001b[0m\u001b[1;34m'wang'\u001b[0m\u001b[1;33m,\u001b[0m \u001b[1;34m'A'\u001b[0m\u001b[1;33m,\u001b[0m \u001b[1;36m15\u001b[0m\u001b[1;33m)\u001b[0m\u001b[1;33m,\u001b[0m \u001b[1;33m(\u001b[0m\u001b[1;34m'li'\u001b[0m\u001b[1;33m,\u001b[0m \u001b[1;34m'B'\u001b[0m\u001b[1;33m,\u001b[0m \u001b[1;36m12\u001b[0m\u001b[1;33m)\u001b[0m\u001b[1;33m,\u001b[0m \u001b[1;33m(\u001b[0m\u001b[1;34m'zhang'\u001b[0m\u001b[1;33m,\u001b[0m \u001b[1;34m'B'\u001b[0m\u001b[1;33m,\u001b[0m \u001b[1;36m10\u001b[0m\u001b[1;33m)\u001b[0m\u001b[1;33m]\u001b[0m\u001b[1;33m\u001b[0m\u001b[1;33m\u001b[0m\u001b[0m\n\u001b[1;32m----> 3\u001b[1;33m \u001b[0mprint\u001b[0m\u001b[1;33m(\u001b[0m\u001b[0msorted\u001b[0m\u001b[1;33m(\u001b[0m\u001b[0mstudents\u001b[0m\u001b[1;33m,\u001b[0m \u001b[0mcmp\u001b[0m\u001b[1;33m=\u001b[0m\u001b[1;32mlambda\u001b[0m \u001b[0mx\u001b[0m\u001b[1;33m,\u001b[0m\u001b[0my\u001b[0m \u001b[1;33m:\u001b[0m \u001b[0mcmp\u001b[0m\u001b[1;33m(\u001b[0m\u001b[0mx\u001b[0m\u001b[1;33m[\u001b[0m\u001b[1;36m0\u001b[0m\u001b[1;33m]\u001b[0m\u001b[1;33m,\u001b[0m \u001b[0my\u001b[0m\u001b[1;33m[\u001b[0m\u001b[1;36m0\u001b[0m\u001b[1;33m]\u001b[0m\u001b[1;33m)\u001b[0m\u001b[1;33m)\u001b[0m \u001b[1;33m)\u001b[0m\u001b[1;33m\u001b[0m\u001b[1;33m\u001b[0m\u001b[0m\n\u001b[0m",
      "\u001b[1;31mTypeError\u001b[0m: 'cmp' is an invalid keyword argument for sort()"
     ]
    }
   ],
   "source": [
    "# 4）用cmp函数排序\n",
    "students = [('wang', 'A', 15), ('li', 'B', 12), ('zhang', 'B', 10)]   \n",
    "print(sorted(students, cmp=lambda x,y : cmp(x[0], y[0])) )"
   ]
  },
  {
   "cell_type": "markdown",
   "metadata": {},
   "source": [
    "2.map()\n",
    "\n",
    "map可以根据提供的函数对指定序列做映射，它接受一个函数f和一个list,并通过把函数f以此作用在list上的每个元素，然后返回一个新的list,map函数的入参也可以是多个.注意这个函数一定要有返回值(值值值重要的说三遍)。不然就会返回新的list 类似[None, None, None, None, None, None, None, None, None]\n",
    "\n",
    "https://blog.csdn.net/weixin_44799217/article/details/119799110"
   ]
  },
  {
   "cell_type": "code",
   "execution_count": 57,
   "metadata": {},
   "outputs": [
    {
     "name": "stdout",
     "output_type": "stream",
     "text": [
      "<class 'map'>\n",
      "[1, 4, 9, 16, 25]\n"
     ]
    }
   ],
   "source": [
    "def fun(x):\n",
    "    return x*x\n",
    "result=map(fun,[1,2,3,4,5])\n",
    "print(type(result))\n",
    "print(list(result))"
   ]
  },
  {
   "cell_type": "code",
   "execution_count": 59,
   "metadata": {},
   "outputs": [
    {
     "name": "stdout",
     "output_type": "stream",
     "text": [
      "['1', '2', '3', '4', '5', '6']\n",
      "1 2 3 4 5 6 \n",
      "[]\n"
     ]
    }
   ],
   "source": [
    "lst = ['1', '2', '3', '4', '5', '6']\n",
    "print(lst)\n",
    "lst_int = map(lambda x: int(x), lst)\n",
    "# print(list(lst_int))\n",
    "for i in lst_int:\n",
    "    print(i, end=' ')\n",
    "print()\n",
    "print(list(lst_int))\n",
    "# 因为map()生成的是迭代器，所以for循环后再使用lst_list时迭代器中的数据已经为空了"
   ]
  },
  {
   "cell_type": "markdown",
   "metadata": {},
   "source": [
    "# np.random的各种生成随机数方法\n",
    "\n",
    "https://blog.csdn.net/weixin_39374967/article/details/103655190"
   ]
  },
  {
   "cell_type": "markdown",
   "metadata": {},
   "source": [
    "# enumerate()\n",
    "\n",
    "Python中，迭代永远是取出元素本身，而非元素的索引,有的时候我们需要知道元素的索引比如在一个很长的列表里面是一些网站名，我们希望在打印的时候，也能列出索引。若没有这个函数，我们需要在加一个变量，在循环打印的时候让这个计数变量递增，现在有了enumerate，就不用这么麻烦了，直接搞定."
   ]
  },
  {
   "cell_type": "code",
   "execution_count": 47,
   "metadata": {},
   "outputs": [
    {
     "name": "stdout",
     "output_type": "stream",
     "text": [
      "0 这\n",
      "1 是\n",
      "2 一个\n",
      "3 测试\n",
      "\n",
      "0 这\n",
      "1 是\n",
      "2 一个\n",
      "3 测试\n",
      "\n",
      "2 这\n",
      "3 是\n",
      "4 一个\n",
      "5 测试\n"
     ]
    }
   ],
   "source": [
    "list1 = [\"这\", \"是\", \"一个\", \"测试\"]\n",
    "\n",
    "for i in range(len(list1)):\n",
    "    print(i,list1[i])\n",
    "\n",
    "print()\n",
    "for index, item in enumerate(list1):\n",
    "    print(index, item)\n",
    "\n",
    "print()\n",
    "for index, item in enumerate(list1,2):\n",
    "    print(index, item)"
   ]
  },
  {
   "cell_type": "markdown",
   "metadata": {},
   "source": [
    "# zip()\n",
    "\n",
    "zip函数接受任意多个（包括0个和1个）序列作为参数，返回一个tuple列表"
   ]
  },
  {
   "cell_type": "code",
   "execution_count": 44,
   "metadata": {},
   "outputs": [
    {
     "name": "stdout",
     "output_type": "stream",
     "text": [
      "<class 'zip'> <zip object at 0x0000024F8776A800>\n",
      "(1, 4, 7)\n",
      "(2, 5, 8)\n",
      "(3, 6, 9)\n"
     ]
    }
   ],
   "source": [
    "x = [1, 2, 3]\n",
    "y = [4, 5, 6]\n",
    "z = [7, 8, 9]\n",
    "xyz = zip(x, y, z)\n",
    "print(type(xyz),xyz)\n",
    "for i in xyz:\n",
    "    print(i)"
   ]
  },
  {
   "cell_type": "markdown",
   "metadata": {},
   "source": [
    "# filter()\n",
    "\n",
    "filter函数接受一个函数f和一个list,这个函数f的作用是对每个元素进行判断,返回True或者False,这样可以过滤掉一些不符合条件的元素，然后返回符合条件的list."
   ]
  },
  {
   "cell_type": "code",
   "execution_count": 50,
   "metadata": {},
   "outputs": [
    {
     "name": "stdout",
     "output_type": "stream",
     "text": [
      "<class 'filter'> <filter object at 0x0000024F876F06A0>\n",
      "2\n",
      "4\n"
     ]
    }
   ],
   "source": [
    "def is_even(x):\n",
    "    return x%2==0\n",
    "fil=filter(is_even,[1,2,3,4,5])\n",
    "print(type(fil),fil)\n",
    "for i in fil:\n",
    "    print(i)"
   ]
  },
  {
   "cell_type": "markdown",
   "metadata": {},
   "source": [
    "# reduce()\n",
    "\n",
    "注意在python3里面reduce已经从全局函数里面移除了，需要用的话要from functools import reduce\n",
    "\n",
    "reduce函数的用法和map很类似,也是一个函数f和一个list,但是函数的入口参数一定要是两个，reduce也是对每个元素进行反复调用，最后返回最终的值，而map是返回一个list"
   ]
  },
  {
   "cell_type": "code",
   "execution_count": 51,
   "metadata": {},
   "outputs": [
    {
     "name": "stdout",
     "output_type": "stream",
     "text": [
      "6\n"
     ]
    }
   ],
   "source": [
    "from functools import reduce\n",
    "\n",
    "def add(x,y):\n",
    "    return x+y\n",
    "print(reduce(add,[1,2,3]))"
   ]
  },
  {
   "cell_type": "markdown",
   "metadata": {},
   "source": [
    "# one_hot 编码转化"
   ]
  },
  {
   "cell_type": "code",
   "execution_count": 52,
   "metadata": {},
   "outputs": [
    {
     "name": "stdout",
     "output_type": "stream",
     "text": [
      "[[0. 1. 0. 0. 0. 0.]\n",
      " [0. 0. 1. 0. 0. 0.]\n",
      " [0. 0. 0. 1. 0. 0.]\n",
      " [0. 0. 1. 0. 0. 0.]\n",
      " [0. 1. 0. 0. 0. 0.]\n",
      " [0. 0. 0. 1. 0. 0.]\n",
      " [0. 0. 0. 0. 1. 0.]\n",
      " [0. 0. 0. 0. 0. 1.]\n",
      " [0. 0. 0. 0. 1. 0.]\n",
      " [0. 0. 0. 1. 0. 0.]\n",
      " [0. 0. 1. 0. 0. 0.]\n",
      " [0. 1. 0. 0. 0. 0.]\n",
      " [0. 1. 0. 0. 0. 0.]]\n"
     ]
    }
   ],
   "source": [
    "import tensorflow as tf\n",
    "x=[1,2,3,2,1,3,4,5,4,3,2,1,1]\n",
    "x_one_hot=tf.keras.utils.to_categorical(x)\n",
    "print(x_one_hot)"
   ]
  },
  {
   "cell_type": "code",
   "execution_count": 57,
   "metadata": {},
   "outputs": [
    {
     "name": "stdout",
     "output_type": "stream",
     "text": [
      "[0, 2, 4, 1, 3]\n"
     ]
    }
   ],
   "source": [
    "list1=[1,5,2,9,3]\n",
    "sorted_id = sorted(range(len(list1)), key=lambda k: list1[k], reverse=False)# 对列表进行从小到大排序 返回 排序后原来元素的下标\n",
    "print(sorted_id)"
   ]
  },
  {
   "cell_type": "code",
   "execution_count": 60,
   "metadata": {},
   "outputs": [
    {
     "name": "stdout",
     "output_type": "stream",
     "text": [
      "[6, 7, 4, 2, 3]\n"
     ]
    }
   ],
   "source": [
    "# me v 18340082396 py固定范围生成固定个数的随机数\n",
    "import random\n",
    "a= random.sample(range(0, 10), 5)\n",
    "print(a)"
   ]
  },
  {
   "cell_type": "code",
   "execution_count": 61,
   "metadata": {},
   "outputs": [
    {
     "name": "stdout",
     "output_type": "stream",
     "text": [
      "0.9243585233880436\n"
     ]
    }
   ],
   "source": [
    "# py固定范围产生一个随机小数\n",
    "import random\n",
    "t=random.uniform(0,1)\n",
    "print(t)"
   ]
  },
  {
   "cell_type": "code",
   "execution_count": 104,
   "metadata": {},
   "outputs": [
    {
     "name": "stdout",
     "output_type": "stream",
     "text": [
      "1 X 1 = 1   \n",
      "1 X 2 = 2   2 X 2 = 4   \n",
      "1 X 3 = 3   2 X 3 = 6   3 X 3 = 9   \n",
      "1 X 4 = 4   2 X 4 = 8   3 X 4 = 12   4 X 4 = 16   \n",
      "1 X 5 = 5   2 X 5 = 10   3 X 5 = 15   4 X 5 = 20   5 X 5 = 25   \n",
      "1 X 6 = 6   2 X 6 = 12   3 X 6 = 18   4 X 6 = 24   5 X 6 = 30   6 X 6 = 36   \n",
      "1 X 7 = 7   2 X 7 = 14   3 X 7 = 21   4 X 7 = 28   5 X 7 = 35   6 X 7 = 42   7 X 7 = 49   \n",
      "1 X 8 = 8   2 X 8 = 16   3 X 8 = 24   4 X 8 = 32   5 X 8 = 40   6 X 8 = 48   7 X 8 = 56   8 X 8 = 64   \n",
      "1 X 9 = 9   2 X 9 = 18   3 X 9 = 27   4 X 9 = 36   5 X 9 = 45   6 X 9 = 54   7 X 9 = 63   8 X 9 = 72   9 X 9 = 81   \n",
      "1 X 1 = 1   \n",
      "1 X 2 = 2   2 X 2 = 4   \n",
      "1 X 3 = 3   2 X 3 = 6   3 X 3 = 9   \n",
      "1 X 4 = 4   2 X 4 = 8   3 X 4 = 12   4 X 4 = 16   \n",
      "1 X 5 = 5   2 X 5 = 10   3 X 5 = 15   4 X 5 = 20   5 X 5 = 25   \n",
      "1 X 6 = 6   2 X 6 = 12   3 X 6 = 18   4 X 6 = 24   5 X 6 = 30   6 X 6 = 36   \n",
      "1 X 7 = 7   2 X 7 = 14   3 X 7 = 21   4 X 7 = 28   5 X 7 = 35   6 X 7 = 42   7 X 7 = 49   \n",
      "1 X 8 = 8   2 X 8 = 16   3 X 8 = 24   4 X 8 = 32   5 X 8 = 40   6 X 8 = 48   7 X 8 = 56   8 X 8 = 64   \n",
      "1 X 9 = 9   2 X 9 = 18   3 X 9 = 27   4 X 9 = 36   5 X 9 = 45   6 X 9 = 54   7 X 9 = 63   8 X 9 = 72   9 X 9 = 81   \n"
     ]
    }
   ],
   "source": [
    "# if break 跳出for 循环 的先后问题\n",
    "i = 0\n",
    "while True:\n",
    "    i = i + 1\n",
    "    for j in range (1,10):\n",
    "        if j >i:\n",
    "            continue\n",
    "        elif j == i :\n",
    "            print('%i X %i = %i   '%(j,i,j*i))\n",
    "        else:\n",
    "            print('%i X %i = %i   ' % (j, i, j * i),end='')\n",
    "    if i >= 9:\n",
    "        break\n",
    "\n",
    "for i in range (1,20):\n",
    "    if i > 9 :\n",
    "        break\n",
    "    j = 0\n",
    "    while j<20:\n",
    "        j = j + 1\n",
    "        if j>i:\n",
    "            continue\n",
    "        elif j == i :\n",
    "            print('%i X %i = %i   '%(j,i,j*i))\n",
    "        else:\n",
    "            print('%i X %i = %i   ' % (j, i, j * i),end='')"
   ]
  },
  {
   "cell_type": "code",
   "execution_count": 71,
   "metadata": {},
   "outputs": [
    {
     "name": "stdout",
     "output_type": "stream",
     "text": [
      "<class 'dict'>\n",
      "{'aa': 11, 'bb': 22, 'cc': 33}\n",
      "\n",
      "aa\n",
      "bb\n",
      "cc\n",
      "\n",
      "11\n",
      "22\n",
      "33\n",
      "\n",
      "dict_keys(['aa', 'bb', 'cc'])\n",
      "\n",
      "11\n",
      "22\n",
      "33\n"
     ]
    }
   ],
   "source": [
    "# 字典循环取值： \n",
    "dict = {\"aa\":11,\"bb\":22,\"cc\":33}\n",
    "print(type(dict))\n",
    "print(dict)\n",
    "\n",
    "print()\n",
    "for key in dict.keys():\n",
    "    print(key)\n",
    "    \n",
    "print()\n",
    "for value in dict.values():\n",
    "    print(value)\n",
    "    \n",
    "print()\n",
    "#取全部key值\n",
    "key = dict.keys()\n",
    "print(key)\n",
    "\n",
    "print()\n",
    "#输出value 值需要排序\n",
    "for i  in sorted(dict.values()):\n",
    "    print(i)"
   ]
  },
  {
   "cell_type": "code",
   "execution_count": 99,
   "metadata": {},
   "outputs": [
    {
     "name": "stdout",
     "output_type": "stream",
     "text": [
      "('aaa', 3)\n",
      "('bbb', 2)\n",
      "('ccc', 1)\n",
      "('ddd', 1)\n",
      "['aaa', 'bbb', 'ccc', 'ddd']\n",
      "[3, 2, 1, 1]\n",
      "\n",
      "aaa\n",
      "bbb\n",
      "ccc\n",
      "ddd\n",
      "['a', 'b', 'c', 'd']\n",
      "['a', 'b', 'c', 'd']\n",
      "\n",
      "Counter({'aaa': 3, 'bbb': 2, 'ccc': 1, 'ddd': 1})\n",
      "<class 'collections.Counter'>\n",
      "\n",
      "[('aaa', 3), ('bbb', 2)]\n"
     ]
    }
   ],
   "source": [
    "# 列表值频率统计 Counter\n",
    "from collections import Counter\n",
    "\n",
    "list1=['aaa','bbb','aaa','bbb','ccc','aaa','ddd']\n",
    "a=[]\n",
    "b=[]\n",
    "for key in Counter(list1).items():\n",
    "    print(key)\n",
    "    a.append(key[0])\n",
    "    b.append(key[1])\n",
    "print(a)\n",
    "print(b)\n",
    "\n",
    "print()\n",
    "a=[]\n",
    "b=[]\n",
    "for key in Counter(list1):\n",
    "    print(key)\n",
    "    a.append(key[0])\n",
    "    b.append(key[1])\n",
    "print(a)\n",
    "print(b)\n",
    "\n",
    "print()\n",
    "print(Counter(list1))\n",
    "print(type(Counter(list1)))\n",
    "\n",
    "print()\n",
    "print (Counter(list1).most_common(2))\n",
    "\n"
   ]
  },
  {
   "cell_type": "code",
   "execution_count": 72,
   "metadata": {},
   "outputs": [
    {
     "name": "stdout",
     "output_type": "stream",
     "text": [
      "4.0\n",
      "9\n",
      "1\n",
      "3.0\n"
     ]
    }
   ],
   "source": [
    "# 列表求均值 最大值 最小值 中位数\n",
    "list1=[1,5,2,9,3]\n",
    "print(np.mean(list1))# 均值\n",
    "print(max(list1))# 最大值\n",
    "print(min(list1))# 最小值\n",
    "a=np.median(list1)# 中位数\n",
    "print(a)"
   ]
  },
  {
   "cell_type": "code",
   "execution_count": 80,
   "metadata": {},
   "outputs": [
    {
     "name": "stdout",
     "output_type": "stream",
     "text": [
      "tensor([1., 5., 2., 9., 3.])\n",
      "tensor(1.)\n",
      "1.0\n"
     ]
    }
   ],
   "source": [
    "# tensor 取值\n",
    "list1=[1,5,2,9,3]\n",
    "a=torch.Tensor(list1)\n",
    "print(a)\n",
    "print(a[0])\n",
    "print(a[0].item())"
   ]
  },
  {
   "cell_type": "code",
   "execution_count": 97,
   "metadata": {},
   "outputs": [
    {
     "name": "stdout",
     "output_type": "stream",
     "text": [
      "1  2  3  4  5\n",
      "1##2##3##4##5\n"
     ]
    }
   ],
   "source": [
    "a=['1','2','3','4','5']\n",
    "print('  '.join(a))\n",
    "print('##'.join(a))"
   ]
  },
  {
   "cell_type": "markdown",
   "metadata": {},
   "source": [
    "# for i in range ()\n",
    "\n",
    "range()是一个函数， for i in range () 就是给i赋值：\n",
    "\n",
    "比如 for i in range （1，3）：就是把1,2依次赋值给i\n",
    "\n",
    "range () 函数的使用是这样的:\n",
    "\n",
    "range(start, stop, step)，分别是起始、终止和步长"
   ]
  },
  {
   "cell_type": "code",
   "execution_count": 18,
   "metadata": {},
   "outputs": [
    {
     "name": "stdout",
     "output_type": "stream",
     "text": [
      "0  1  2  \n",
      "1  2  \n",
      "1  3  5  7  \n"
     ]
    }
   ],
   "source": [
    "# range（3）即：从0到3，不包含3，即0,1,2\n",
    "for i in range(3):\n",
    "    print(i,' ',end='')\n",
    "print()\n",
    "\n",
    "# range(1,3) 即：从1到3，不包含3，即1,2\n",
    "for i in range(1,3):\n",
    "    print(i,' ',end='')\n",
    "print()\n",
    "\n",
    "# range（1,3,2）即：从1到3，每次增加2，因为1+2=3，所以输出只有1\n",
    "# 第三个数字2是代表步长。如果不设置，就是默认步长为1\n",
    "for i in range(1,9,2):\n",
    "    print(i,' ',end='')\n",
    "print()"
   ]
  },
  {
   "cell_type": "code",
   "execution_count": 5,
   "metadata": {},
   "outputs": [
    {
     "name": "stdout",
     "output_type": "stream",
     "text": [
      "[['bb 1 2 3']\n",
      " ['ccc 1 2 4']\n",
      " ['dddd 1 2 3 1']\n",
      " ['eeeee 1 2 3 ']\n",
      " ['ffff 1 2 3 1 2']\n",
      " ['ggg 1 2 3 1 ']\n",
      " ['hh 1 2 ']\n",
      " ['i 1 2 3 1 2 ']]\n",
      "\n",
      "['a 1 2 3\\n', 'bb 1 2 3\\n', 'ccc 1 2 4\\n', 'dddd 1 2 3 1\\n', 'eeeee 1 2 3 \\n', 'ffff 1 2 3 1 2\\n', 'ggg 1 2 3 1 \\n', 'hh 1 2 \\n', 'i 1 2 3 1 2 \\n']\n",
      "\n",
      "['1', '2', '3', '1', '2']\n"
     ]
    }
   ],
   "source": [
    "#读取 txt  读取 csv 打开任意格式的文件\n",
    "import pandas as pd\n",
    "\n",
    "data=pd.read_csv('./sucai/nextlinks.txt',encoding='utf-8',sep=' ',delimiter=\"\\t\")\n",
    "print(data.values)\n",
    "\n",
    "print()\n",
    "model=[]\n",
    "with open('./sucai/nextlinks.txt', 'r') as f:\n",
    "    for line in f:\n",
    "        model.append(line)\n",
    "print(model)\n",
    "\n",
    "print()\n",
    "model1=model[-1].split(\" \")[1:-1]\n",
    "print(model1)"
   ]
  },
  {
   "cell_type": "markdown",
   "metadata": {},
   "source": [
    "# 文件夹改名 + 文件先改名在移动\n",
    "#题目要求：有这样的文件夹 然后要求合并到一个大的文件夹\n",
    "\n",
    "为了避免重复应该先改名 然后再合并："
   ]
  },
  {
   "cell_type": "code",
   "execution_count": 8,
   "metadata": {},
   "outputs": [
    {
     "name": "stdout",
     "output_type": "stream",
     "text": [
      "./sucai\\a.jpg\n",
      "./new_a.jpg\n"
     ]
    }
   ],
   "source": [
    "#文件改名代码：\n",
    "import os\n",
    "import shutil\n",
    "\n",
    "Olddir=os.path.join(\"./sucai\",\"a.jpg\") #  原来的文件路径\n",
    "Newdir=os.path.join(\"./\",(str(\"new_\")+\"a.jpg\")) #  新的文件路径\n",
    "print(Olddir)\n",
    "print(Newdir)\n",
    "os.rename(Olddir,Newdir)"
   ]
  },
  {
   "cell_type": "markdown",
   "metadata": {},
   "source": [
    "# 文件移动加改名："
   ]
  },
  {
   "cell_type": "code",
   "execution_count": 10,
   "metadata": {},
   "outputs": [
    {
     "name": "stdout",
     "output_type": "stream",
     "text": [
      "filenames ['add.jpg', 'fix.jpg', 'hack.jpg', 'new_a.jpg', 'nextlinks.txt']\n",
      "filenames []\n",
      "filenames []\n"
     ]
    }
   ],
   "source": [
    "\n",
    "import os\n",
    "import shutil\n",
    "\n",
    "for i in range(6,9,1): # 几个文件夹\n",
    "    # 原文件夹\n",
    "#     old_path = str(str(\"0\")*(4-len(str(i)))+str(i))\n",
    "    old_path=\"./sucai\"\n",
    "    # 查看原文件夹下所有的的文件\n",
    "    filenames = os.listdir(old_path)\n",
    "    target_path = \"合并\"     # 新文件夹\n",
    "    if not os.path.exists(target_path):\n",
    "        os.mkdir(target_path)\n",
    "    print(\"filenames\",filenames)\n",
    "    for file in filenames:# 遍历每个图片文件\n",
    "        #改名：\n",
    "        Olddir=os.path.join( old_path+str(\"/\"),file) #  原来的文件路径\n",
    "        filename=os.path.splitext(file)[0]  #  文件名\n",
    "        Newdir=os.path.join(str(old_path)+str(\"/\"),str(str(i)+\"_\")+str(file)) #  新的文件路径\n",
    "        os.rename(Olddir,Newdir)  # 改名\n",
    "        # 将文件移动到新文件夹中\n",
    "        shutil.move(Newdir, target_path)"
   ]
  },
  {
   "cell_type": "markdown",
   "metadata": {},
   "source": [
    "# 数据生成csv "
   ]
  },
  {
   "cell_type": "code",
   "execution_count": 3,
   "metadata": {},
   "outputs": [
    {
     "name": "stdout",
     "output_type": "stream",
     "text": [
      "<class 'list'>\n",
      "   Unnamed: 0 zimu  num\n",
      "0           0    a    1\n",
      "1           1    b    2\n",
      "2           2    c    3\n",
      "3           3    d    4\n"
     ]
    }
   ],
   "source": [
    "import torch\n",
    "import pandas as pd\n",
    "\n",
    "datas=[['a','1'],['b','2'],['c','3'],['d','4']]\n",
    "print(type(datas))\n",
    "columns=[\"zimu\",\"num\"]\n",
    "df=pd.DataFrame(data=datas,columns=columns)\n",
    "df.to_csv('./sucai/self_test.csv')\n",
    "data=pd.read_csv('./sucai/self_test.csv',encoding='utf-8')# ,sep=' ',delimiter=\"\\t\"\n",
    "print(data)\n",
    "\n",
    "# 不要列头，不要索引，只要open,high两列。\n",
    "# df.to_csv('9.csv',columns=['open','high'],index=False,header=False)"
   ]
  },
  {
   "cell_type": "code",
   "execution_count": 4,
   "metadata": {},
   "outputs": [
    {
     "name": "stdout",
     "output_type": "stream",
     "text": [
      "  Unnamed: 0 zimu  num\n",
      "0          0    a  1.0\n",
      "1          1    b  2.0\n",
      "2          2    c  3.0\n",
      "3          3    d  4.0\n",
      "4          e    5  NaN\n"
     ]
    }
   ],
   "source": [
    "import csv\n",
    "lst=['e','5']\n",
    "out_f = open('./sucai/self_test.csv','a',newline='')\n",
    "writer = csv.writer(out_f)\n",
    "writer.writerow(lst)\n",
    "\n",
    "out_f.close()\n",
    "\n",
    "data=pd.read_csv('./sucai/self_test.csv',encoding='utf-8')# ,sep=' ',delimiter=\"\\t\"\n",
    "print(data)"
   ]
  },
  {
   "cell_type": "code",
   "execution_count": 11,
   "metadata": {},
   "outputs": [
    {
     "name": "stdout",
     "output_type": "stream",
     "text": [
      "   Unnamed: 0        姓名  年龄 性别 民族\n",
      "0           0  zhangsan  12  男  汉\n",
      "1           1      lisi  34  男  回\n",
      "2           2    wangwu  58  女  汉\n"
     ]
    }
   ],
   "source": [
    "# list_to_csv\n",
    "import csv\n",
    "import pandas as pd \n",
    "name_list = [['zhangsan','12','男','汉'],\n",
    "         ['lisi','34','男','回'],\n",
    "         ['wangwu','58','女','汉']\n",
    "        ]\n",
    "for n in range(10):\n",
    "    # newline是数据之间不加空行\n",
    "    f = open('./list_to_csv.csv','a',newline = '')\n",
    "    writer = csv.writer(f)\n",
    "    writer.writerow(name_list)\n",
    "    f.close()\n",
    "    \n",
    "header = ['姓名','年龄','性别','民族']\n",
    "# encoding='utf_8_sig'防止中文乱码\n",
    "test = pd.DataFrame(columns=header,data=name_list).to_csv('./list_to_csv.csv',encoding='utf_8_sig')\n",
    "\n",
    "# dict_to_csv\n",
    "import csv\n",
    "import pandas as pd\n",
    "header = ['姓名','年龄','性别','民族']\n",
    "pd.DataFrame(datas).to_csv('./dict_to_csv.csv',encoding='utf_8_sig')\n",
    "\n",
    "# array_to_csv\n",
    "import numpy\n",
    "a = numpy.array([ [1,2,3], [4,5,6], [7,8,9] ])\n",
    "numpy.savetxt(\"./array_to_csv.csv\", a, delimiter=\",\")\n",
    "\n",
    "data=pd.read_csv('./list_to_csv.csv')# ,sep=' ',delimiter=\"\\t\"\n",
    "print(data)\n",
    "\n",
    "# 清空文件\n",
    "f = open('./list_to_csv.csv','a',newline = '')\n",
    "writer = csv.writer(f)\n",
    "f.seek(0)\n",
    "f.truncate()\n",
    "f.close()"
   ]
  },
  {
   "cell_type": "code",
   "execution_count": 100,
   "metadata": {},
   "outputs": [
    {
     "name": "stdout",
     "output_type": "stream",
     "text": [
      "11 ss 334e\n"
     ]
    }
   ],
   "source": [
    "#seg是一个引号逗号的列表 ，然后生成一个空格分割的文本\n",
    "seg=[\"11\",\"ss\",\"334e\"]\n",
    "seg=\" \".join(i for i in seg)\n",
    "print(seg)"
   ]
  },
  {
   "cell_type": "code",
   "execution_count": 32,
   "metadata": {},
   "outputs": [
    {
     "name": "stdout",
     "output_type": "stream",
     "text": [
      "<class 'torch.Tensor'> tensor([1., 5., 3., 2.], device='cuda:0')\n",
      "<class 'torch.Tensor'> tensor([1., 5., 3., 2.])\n",
      "<class 'numpy.ndarray'> [1. 5. 3. 2.]\n"
     ]
    }
   ],
   "source": [
    "#把数据从gpu拿到cpu \n",
    "import torch\n",
    "device = torch.device('cuda' if torch.cuda.is_available() else 'cpu')\n",
    "outputs = [1,5,3,2]\n",
    "outputs=torch.Tensor(outputs)\n",
    "outputs=outputs.to(device)\n",
    "print(type(outputs),outputs)\n",
    "\n",
    "outputs = outputs.cpu()\n",
    "print(type(outputs),outputs)\n",
    "\n",
    "outputs=outputs.to(device)\n",
    "outputs = outputs.cpu().numpy()\n",
    "print(type(outputs),outputs)"
   ]
  },
  {
   "cell_type": "code",
   "execution_count": 44,
   "metadata": {},
   "outputs": [
    {
     "data": {
      "text/plain": [
       "tensor([[[-0.8323,  0.1582, -0.3030],\n",
       "         [-0.4111,  0.1960,  1.0642],\n",
       "         [-0.4625,  0.5564, -1.8883],\n",
       "         [-1.3906, -2.2485, -0.9212]],\n",
       "\n",
       "        [[-0.4625,  0.5564, -1.8883],\n",
       "         [-2.3982, -1.3637, -1.2059],\n",
       "         [-0.4111,  0.1960,  1.0642],\n",
       "         [-0.2687,  0.4600, -0.2904]]], grad_fn=<EmbeddingBackward>)"
      ]
     },
     "execution_count": 44,
     "metadata": {},
     "output_type": "execute_result"
    }
   ],
   "source": [
    "# nn.Embedding(20,3)\n",
    "import torch\n",
    "from torch import nn\n",
    "\n",
    "embedding=nn.Embedding(20,3)\n",
    "input=torch.LongTensor([[1,2,4,5],[4,3,2,9]])\n",
    "embedding(input)"
   ]
  },
  {
   "cell_type": "code",
   "execution_count": 53,
   "metadata": {},
   "outputs": [
    {
     "name": "stdout",
     "output_type": "stream",
     "text": [
      "[[1, 2, 3], [1, 2, 3], [1, 2, 3], [1, 2, 3], [1, 2, 3]]\n"
     ]
    }
   ],
   "source": [
    "a=[[1,2,3] for i in range(5)]\n",
    "print(a)"
   ]
  },
  {
   "cell_type": "code",
   "execution_count": 48,
   "metadata": {},
   "outputs": [
    {
     "name": "stdout",
     "output_type": "stream",
     "text": [
      "tensor([[1., 1., 1.],\n",
      "        [1., 1., 1.],\n",
      "        [1., 1., 1.],\n",
      "        [1., 1., 1.]])\n",
      "tensor([[2., 2., 2.],\n",
      "        [2., 2., 2.],\n",
      "        [2., 2., 2.],\n",
      "        [2., 2., 2.]])\n",
      "tensor([[1., 1., 1., 2., 2., 2.],\n",
      "        [1., 1., 1., 2., 2., 2.],\n",
      "        [1., 1., 1., 2., 2., 2.],\n",
      "        [1., 1., 1., 2., 2., 2.]])\n"
     ]
    }
   ],
   "source": [
    "#torch.cat((A,B),1)#按维数0（行）拼接\n",
    "import torch\n",
    "A=torch.ones(4,3) #2x3的张量（矩阵）                                     \n",
    "B=2*torch.ones(4,3)#4x3的张量（矩阵）                                    \n",
    "print(A)\n",
    "print(B)\n",
    "C=torch.cat((A,B),1)#按维数0（行）拼接\n",
    "print(C)"
   ]
  },
  {
   "cell_type": "code",
   "execution_count": 47,
   "metadata": {},
   "outputs": [
    {
     "name": "stdout",
     "output_type": "stream",
     "text": [
      "tensor([[1., 1., 1.],\n",
      "        [1., 1., 1.],\n",
      "        [1., 1., 1.],\n",
      "        [1., 1., 1.]])\n",
      "tensor([[2., 2., 2.],\n",
      "        [2., 2., 2.],\n",
      "        [2., 2., 2.],\n",
      "        [2., 2., 2.]])\n",
      "tensor([[1., 1., 1.],\n",
      "        [1., 1., 1.],\n",
      "        [1., 1., 1.],\n",
      "        [1., 1., 1.],\n",
      "        [2., 2., 2.],\n",
      "        [2., 2., 2.],\n",
      "        [2., 2., 2.],\n",
      "        [2., 2., 2.]])\n"
     ]
    }
   ],
   "source": [
    "import torch\n",
    "A=torch.ones(4,3) #2x3的张量（矩阵）                                     \n",
    "B=2*torch.ones(4,3)#4x3的张量（矩阵）                                    \n",
    "print(A)\n",
    "print(B)\n",
    "C=torch.cat((A,B),0)#按维数0（行）拼接\n",
    "print(C)"
   ]
  },
  {
   "cell_type": "code",
   "execution_count": 46,
   "metadata": {},
   "outputs": [
    {
     "name": "stdout",
     "output_type": "stream",
     "text": [
      "torch.Size([8, 2, 10])\n"
     ]
    }
   ],
   "source": [
    "#torch.bmm(batch1, batch2)\n",
    "# 并且相乘的两个矩阵，要满足一定的维度要求：input（p,m,n) * mat2(p,n,a) ->output(p,m,a)。\n",
    "\n",
    "import torch\n",
    "batch1 = torch.randn(8, 2, 6)\n",
    "batch2 = torch.randn(8, 6, 10)\n",
    "res = torch.bmm(batch1, batch2)\n",
    "print(res.size())"
   ]
  },
  {
   "cell_type": "markdown",
   "metadata": {},
   "source": [
    "# torch.topk(）\n",
    "torch.topk(input, k, dim=None, largest=True, sorted=True, out=None) -> (Tensor, LongTensor)\n",
    "沿给定dim维度返回输入张量input中 k 个最大值。\n",
    "如果不指定dim，则默认为input的最后一维。\n",
    "如果为largest为 False ，则返回最小的 k 个值。\n",
    "返回一个元组 (values,indices)，其中indices是原始输入张量input中测元素下标。\n",
    "如果设定布尔值sorted 为_True_，将会确保返回的 k 个值被排序。"
   ]
  },
  {
   "cell_type": "code",
   "execution_count": 54,
   "metadata": {
    "scrolled": true
   },
   "outputs": [
    {
     "name": "stdout",
     "output_type": "stream",
     "text": [
      "tensor([[ 0.4765,  1.1024, -1.0080,  0.2376, -0.9892],\n",
      "        [ 0.6440,  0.2181, -2.3090,  0.7996, -0.9095],\n",
      "        [ 0.1241, -0.4557, -1.9573,  0.8361, -0.0923],\n",
      "        [-0.4670,  0.7174, -1.9417, -0.4731,  0.6780]])\n",
      "tensor([[1.1024],\n",
      "        [0.7996],\n",
      "        [0.8361],\n",
      "        [0.7174]])\n",
      "tensor([[1],\n",
      "        [3],\n",
      "        [3],\n",
      "        [1]])\n"
     ]
    }
   ],
   "source": [
    "import torch\n",
    "pred=torch.randn((4,5))\n",
    "print(pred)\n",
    "values,indices=pred.topk(1,dim=1,largest=True,sorted=True)\n",
    "print(values)\n",
    "print(indices)"
   ]
  },
  {
   "cell_type": "code",
   "execution_count": 55,
   "metadata": {},
   "outputs": [
    {
     "name": "stdout",
     "output_type": "stream",
     "text": [
      "tensor([[-1.2380,  0.0138,  0.1253,  1.9651,  0.5429],\n",
      "        [-0.2685, -1.0218, -1.0218, -1.7494, -0.9224],\n",
      "        [-1.6383,  0.7148, -0.9548,  0.0421, -0.8530],\n",
      "        [-0.0253, -0.6840, -0.9118, -0.9748,  0.2978]])\n",
      "tensor([[-0.0253,  0.7148,  0.1253,  1.9651,  0.5429]])\n",
      "tensor([[3, 2, 0, 0, 0]])\n"
     ]
    }
   ],
   "source": [
    "import torch\n",
    "pred=torch.randn((4,5))\n",
    "print(pred)\n",
    "values,indices=pred.topk(1,dim=0,largest=True,sorted=True)\n",
    "print(values)\n",
    "print(indices)"
   ]
  },
  {
   "cell_type": "code",
   "execution_count": null,
   "metadata": {},
   "outputs": [],
   "source": []
  },
  {
   "cell_type": "code",
   "execution_count": null,
   "metadata": {},
   "outputs": [],
   "source": []
  },
  {
   "cell_type": "code",
   "execution_count": null,
   "metadata": {},
   "outputs": [],
   "source": []
  },
  {
   "cell_type": "code",
   "execution_count": null,
   "metadata": {},
   "outputs": [],
   "source": []
  },
  {
   "cell_type": "code",
   "execution_count": null,
   "metadata": {},
   "outputs": [],
   "source": []
  },
  {
   "cell_type": "code",
   "execution_count": null,
   "metadata": {},
   "outputs": [],
   "source": []
  },
  {
   "cell_type": "code",
   "execution_count": null,
   "metadata": {},
   "outputs": [],
   "source": []
  },
  {
   "cell_type": "code",
   "execution_count": null,
   "metadata": {},
   "outputs": [],
   "source": []
  },
  {
   "cell_type": "code",
   "execution_count": null,
   "metadata": {},
   "outputs": [],
   "source": []
  },
  {
   "cell_type": "code",
   "execution_count": null,
   "metadata": {},
   "outputs": [],
   "source": []
  },
  {
   "cell_type": "code",
   "execution_count": null,
   "metadata": {},
   "outputs": [],
   "source": []
  },
  {
   "cell_type": "markdown",
   "metadata": {},
   "source": [
    "# Numpy中对向量、矩阵的使用详解"
   ]
  },
  {
   "cell_type": "code",
   "execution_count": 1,
   "metadata": {},
   "outputs": [
    {
     "name": "stdout",
     "output_type": "stream",
     "text": [
      "  (2, 0)\t3\n",
      "  (1, 1)\t1\n",
      "  (1, 1)\t1\n",
      "  (2, 0)\t3\n",
      "3\n",
      "5\n",
      "[1 2 3 4 5 6]\n",
      "[1 2 3]\n",
      "[4 5 6]\n",
      "6\n",
      "[[1 2 3]\n",
      " [4 5 6]]\n",
      "[[2]\n",
      " [5]\n",
      " [8]]\n",
      "[2 5 8]\n",
      "(3, 4)\n",
      "12\n",
      "2\n",
      "[[101 102 103]\n",
      " [104 105 106]\n",
      " [107 108 109]]\n",
      "[[1 2 3]\n",
      " [4 5 6]\n",
      " [7 8 9]]\n",
      "[[201 202 203]\n",
      " [204 205 206]\n",
      " [207 208 209]]\n",
      "9\n",
      "1\n",
      "[7 8 9]\n",
      "[3 6 9]\n",
      "5.0\n",
      "6.666666666666667\n",
      "2.581988897471611\n",
      "[4. 5. 6.]\n",
      "[0.66666667 0.66666667 0.66666667]\n",
      "[[ 1  2  3  4  5  6]\n",
      " [ 7  8  9 10 11 12]]\n",
      "12\n",
      "[[ 1  2  3  4  5  6  7  8  9 10 11 12]]\n",
      "[ 1  2  3  4  5  6  7  8  9 10 11 12]\n",
      "[[1 4 7]\n",
      " [2 5 8]\n",
      " [3 6 9]]\n",
      "[1 2 3 4 5 6]\n",
      "[[1]\n",
      " [2]\n",
      " [3]\n",
      " [4]\n",
      " [5]\n",
      " [6]]\n",
      "[1 2 3 4 5 6 7 8 9]\n",
      "[[1 2 3 4 5 6 7 8 9]]\n",
      "2\n",
      "0.0\n",
      "[1 4 9]\n",
      "[2 6]\n",
      "[2 8]\n",
      "14\n",
      "14\n",
      "[13.55075847  0.74003145 -3.29078992]\n",
      "[[-0.17622017 -0.96677403 -0.53373322]\n",
      " [-0.435951    0.2053623  -0.64324848]\n",
      " [-0.88254925  0.15223105  0.54896288]]\n",
      "32\n",
      "32\n",
      "[[ 2  4  2]\n",
      " [ 2  4  2]\n",
      " [ 2  4 10]]\n",
      "[[ 0 -2  0]\n",
      " [ 0 -2  0]\n",
      " [ 0 -2 -6]]\n",
      "[[ 2  4  2]\n",
      " [ 2  4  2]\n",
      " [ 2  4 10]]\n",
      "[[ 0 -2  0]\n",
      " [ 0 -2  0]\n",
      " [ 0 -2 -6]]\n",
      "[[2 5]\n",
      " [3 7]]\n",
      "[[2 5]\n",
      " [3 7]]\n",
      "[[1 3]\n",
      " [1 4]]\n",
      "[[-1.66666667  1.33333333]\n",
      " [ 0.66666667 -0.33333333]]\n",
      "[[1.00000000e+00 0.00000000e+00]\n",
      " [1.11022302e-16 1.00000000e+00]]\n"
     ]
    }
   ],
   "source": [
    "# 加载numpy库\n",
    "import numpy as np\n",
    "from scipy import sparse\n",
    "\n",
    "# 创建一个一维数组表示一个行向量\n",
    "vector_row = np.array([1, 2, 3])\n",
    "\n",
    "# 创建一个一维数组表示一个列向量\n",
    "vector_column = np.array([[1], [2], [3]])\n",
    "\n",
    "# 创建一个二维数组表示一个矩阵\n",
    "matrix1 = np.array([[1, 2], [1, 2], [1, 2]])\n",
    "\n",
    "# 利用Numpy内置矩阵数据结构\n",
    "matrix1_object = np.mat([[1, 2], [1, 2], [1, 2]])\n",
    "\n",
    "# 创建一个新的矩阵\n",
    "matrix2 = np.array([[0, 0], [0, 1], [3, 0]])\n",
    "\n",
    "# 创建一个压缩的稀疏行(CSR)矩阵\n",
    "matrix2_sparse = sparse.csc_matrix(matrix2)\n",
    "\n",
    "# 查看稀疏矩阵\n",
    "print(matrix2_sparse)\n",
    "\n",
    "# 创建一个更大的矩阵\n",
    "matrix_large = np.array([[0, 0, 0, 0, 0, 0, 0, 0, 0, 0],\n",
    "             [0, 1, 0, 0, 0, 0, 0, 0, 0, 0],\n",
    "             [3, 0, 0, 0, 0, 0, 0, 0, 0, 0]])\n",
    "\n",
    "# 创建一个CSR矩阵\n",
    "matrix_large_sparse = sparse.csr_matrix(matrix_large)\n",
    "\n",
    "# 查看更大的稀疏矩阵\n",
    "print(matrix_large_sparse)\n",
    "\n",
    "# 创建一个行向量\n",
    "vector = np.array([1, 2, 3, 4, 5, 6])\n",
    "\n",
    "# 创建矩阵\n",
    "matrix_vector = np.array([[1, 2, 3], [4, 5, 6], [7, 8, 9]])\n",
    "\n",
    "# 选择向量的第三个元素\n",
    "print(vector[2])\n",
    "\n",
    "# 选择第二行第二列\n",
    "print(matrix_vector[1, 1])\n",
    "\n",
    "# 选取一个向量的所有元素\n",
    "print(vector[:])\n",
    "\n",
    "# 选取从0开始一直到第3个（包含第3个）元素\n",
    "print(vector[:3])\n",
    "\n",
    "# 选取第3个元素之后的全部元素\n",
    "print(vector[3:])\n",
    "\n",
    "# 选取最后一个元素\n",
    "print(vector[-1])\n",
    "\n",
    "# 选取矩阵的第1行和第2行以及所有列\n",
    "print(matrix_vector[:2, :])\n",
    "\n",
    "# 选取所有行以及第2列\n",
    "print(matrix_vector[:, 1:2])\n",
    "\n",
    "# 选取所有行以及第2列并转换成一个新的行向量\n",
    "print(matrix_vector[:, 1])\n",
    "\n",
    "# 创建新的矩阵\n",
    "matrix3 = np.array([[1, 2, 3, 4], [5, 6, 7, 8], [9, 10, 11, 12]])\n",
    "\n",
    "# 查看行数和列数\n",
    "print(matrix3.shape)\n",
    "\n",
    "# 查看元素数量\n",
    "print(matrix3.size)\n",
    "\n",
    "# 查看维数\n",
    "print(matrix3.ndim)\n",
    "\n",
    "# 下面使用的矩阵是matrix_vector\n",
    "# 创建一个匿名函数，返回输入值加上100以后的值\n",
    "add_100 = lambda i: i+100\n",
    "\n",
    "# 创建向量转化函数\n",
    "vectorized_add_100 = np.vectorize(add_100)\n",
    "\n",
    "# 对矩阵的所有元素应用这个函数\n",
    "print(vectorized_add_100(matrix_vector))\n",
    "\n",
    "# 用后矩阵本身不变\n",
    "print(matrix_vector)\n",
    "\n",
    "# 连续使用\n",
    "print(vectorized_add_100(vectorized_add_100(matrix_vector)))\n",
    "\n",
    "# 返回最大的元素\n",
    "print(np.max(matrix_vector))\n",
    "\n",
    "# 返回最小元素\n",
    "print(np.min(matrix_vector))\n",
    "\n",
    "# 找到每一列的最大元素\n",
    "print(np.max(matrix_vector, axis=0))\n",
    "\n",
    "# 找到每一行最大的元素\n",
    "print(np.max(matrix_vector, axis=1))\n",
    "\n",
    "# 返回平均值\n",
    "print(np.mean(matrix_vector))\n",
    "\n",
    "# 返回方差\n",
    "print(np.var(matrix_vector))\n",
    "\n",
    "# 返回标准差\n",
    "print(np.std(matrix_vector))\n",
    "\n",
    "# 求每一列的平均值\n",
    "print(np.mean(matrix_vector, axis=0))\n",
    "\n",
    "# 求每一行的方差\n",
    "print(np.var(matrix_vector, axis=1))\n",
    "\n",
    "# 将matrix3矩阵变为2×6矩阵\n",
    "matrix4 = matrix3.reshape(2, 6)\n",
    "print(matrix4)\n",
    "\n",
    "# 上面的变形要求前后元素个数相同，且不会改变元素个数\n",
    "print(matrix4.size)\n",
    "\n",
    "# reshape时传入参数-1意味着可以根据需要填充元素\n",
    "print(matrix3.reshape(1, -1))\n",
    "\n",
    "# reshape如果提供一个整数，那么reshape会返回一个长度为该整数值的一维数组\n",
    "print(matrix3.reshape(12))\n",
    "\n",
    "# 转置matrix_vector矩阵\n",
    "print(matrix_vector.T)\n",
    "\n",
    "# 严格地讲，向量是不能被转置的\n",
    "print(vector.T)\n",
    "\n",
    "# 转置向量通常指二维数组表示形式下将行向量转换为列向量或者反向转换\n",
    "print(np.array([[1, 2, 3, 4, 5, 6]]).T)\n",
    "\n",
    "# 将matrix_vector矩阵展开\n",
    "print(matrix_vector.flatten())\n",
    "\n",
    "# 将矩阵展开的另一种策略是利用reshape创建一个行向量\n",
    "print(matrix_vector.reshape(1, -1))\n",
    "\n",
    "# 创建用于求秩的新矩阵\n",
    "matrix5 = np.array([[1, 1, 1], [1, 1, 10], [1, 1, 15]])\n",
    "\n",
    "# 计算矩阵matrix5的秩\n",
    "print(np.linalg.matrix_rank(matrix5))\n",
    "\n",
    "# 创建用于行列式求解的新矩阵\n",
    "matrix6 = np.array([[1, 2, 3], [2, 4, 6], [3, 8, 9]])\n",
    "\n",
    "# 求解矩阵matrix6的行列式\n",
    "print(np.linalg.det(matrix6))\n",
    "\n",
    "# 返回矩阵的对角线元素\n",
    "print(matrix6.diagonal())\n",
    "\n",
    "# 返回主对角线向上偏移量为1的对角线元素\n",
    "print(matrix6.diagonal(offset=1))\n",
    "\n",
    "# 返回主对角线向下偏移量为1的对角线元素\n",
    "print(matrix6.diagonal(offset=-1))\n",
    "\n",
    "# 返回矩阵的迹\n",
    "print(matrix6.trace())\n",
    "\n",
    "# 求迹的另外的方法（返回对角线元素并求和）\n",
    "print(sum(matrix6.diagonal()))\n",
    "\n",
    "# 创建一个求解特征值、特征向量的矩阵\n",
    "matrix7 = np.array([[1, -1, 3], [1, 1, 6], [3, 8, 9]])\n",
    "\n",
    "# 计算特征值和特征向量\n",
    "eigenvalues, eigenvectors = np.linalg.eig(matrix7)\n",
    "\n",
    "# 查看特征值\n",
    "print(eigenvalues)\n",
    "\n",
    "# 查看特征向量\n",
    "print(eigenvectors)\n",
    "\n",
    "# 构造两个点积（数量积）所需向量\n",
    "vector_a = np.array([1, 2, 3])\n",
    "vector_b = np.array([4, 5, 6])\n",
    "\n",
    "# 计算点积\n",
    "print(np.dot(vector_a, vector_b))\n",
    "\n",
    "# Python 3.5+ 版本可以这样求解点积\n",
    "print(vector_a @ vector_b)\n",
    "\n",
    "# 构造两个可用于加减的矩阵\n",
    "matrix_a = np.array([[1, 1, 1], [1, 1, 1], [1, 1, 2]])\n",
    "matrix_b = np.array([[1, 3, 1], [1, 3, 1], [1, 3, 8]])\n",
    "\n",
    "# 两矩阵相加\n",
    "print(np.add(matrix_a, matrix_b))\n",
    "\n",
    "# 两矩阵相减\n",
    "print(np.subtract(matrix_a, matrix_b))\n",
    "\n",
    "# 直接用+/-也可以做矩阵加减\n",
    "print(matrix_a + matrix_b)\n",
    "print(matrix_a - matrix_b)\n",
    "\n",
    "# 构造两个可用于乘法的小矩阵\n",
    "matrix_c = np.array([[1, 1], [1, 2]])\n",
    "matrix_d = np.array([[1, 3], [1, 2]])\n",
    "\n",
    "# 两矩阵相乘\n",
    "print(np.dot(matrix_c, matrix_d))\n",
    "\n",
    "# Python 3.5+ 版本可以这样求解矩阵乘法\n",
    "print(matrix_c @ matrix_d)\n",
    "\n",
    "# 我们也可以把两矩阵对应元素相乘，而非矩阵乘法\n",
    "print(matrix_c * matrix_d)\n",
    "\n",
    "# 创建一个用于求逆的矩阵\n",
    "matrix8 = np.array([[1, 4], [2, 5]])\n",
    "\n",
    "# 计算矩阵的逆\n",
    "print(np.linalg.inv(matrix8))\n",
    "\n",
    "# 验证一个矩阵和它的逆矩阵相乘等于I（单位矩阵）\n",
    "print(matrix8 @ np.linalg.inv(matrix8))"
   ]
  },
  {
   "cell_type": "markdown",
   "metadata": {},
   "source": [
    "# 运行不了"
   ]
  },
  {
   "cell_type": "markdown",
   "metadata": {},
   "source": [
    "## 文本分词处理"
   ]
  },
  {
   "cell_type": "code",
   "execution_count": null,
   "metadata": {},
   "outputs": [],
   "source": [
    "# juzi=[]\n",
    "# for i in train_data:\n",
    "#     zifuchuan=\"\"\n",
    "#     for ii in re.findall('[\\u4E00-\\u9FA5\\\\s]',i):\n",
    "#         zifuchuan=zifuchuan+str(ii)\n",
    "#     zifuchuan=zifuchuan.replace(\" \",\"\")\n",
    "#     seg = jieba.lcut(zifuchuan)\n",
    "#     seg=\" \".join(i for i in seg)\n",
    "#     juzi.append(seg)"
   ]
  },
  {
   "cell_type": "code",
   "execution_count": null,
   "metadata": {},
   "outputs": [],
   "source": [
    "# #李雪莉 数据处理 \n",
    "# zonghe=[]\n",
    "# a=[\"01\", \"02\", \"03\", \"04\", \"05\",\"06\", \"07\", \"08\", \"09\", \"10\",\"12\"]\n",
    "# for i in a:\n",
    "#     data=pd.read_excel(\"2020年社保医疗明细/医疗明细2020\"+str(i)+\".xlsx\")\n",
    "#     a=data.sum() # 数据按列求和\n",
    "#     zonghe.append(a)\n",
    "    \n",
    "# data1=pd.read_excel(\"2020年社保医疗明细/医疗明细2020\"+str(\"01\")+\".xlsx\")\n",
    "# print(len(data1.columns))\n",
    "# print(data1.columns)\n",
    "\n",
    "# zong=pd.DataFrame(np.array(zonghe))\n",
    "# # print(zong)\n",
    "# print(len(list(zong.sum())))\n",
    "# print(list(zong.sum()))"
   ]
  },
  {
   "cell_type": "code",
   "execution_count": null,
   "metadata": {},
   "outputs": [],
   "source": [
    "# #统计列表中相同元素得个数  然后取相同次数最多得前多少名画图 from collections import Counter\n",
    "# from collections import Counter\n",
    "\n",
    "# forword_wors_count=Counter(forword_wors)\n",
    "\n",
    "# word=[]\n",
    "# summ=[]\n",
    "# for key in Counter(forword_wors_count).items():\n",
    "#         word.append(key[0])\n",
    "#         summ.append(key[1])\n",
    "# sorted_id = sorted(range(len(summ)), key=lambda k: summ[k], reverse=True)\n",
    "\n",
    "# sorted_word=[]\n",
    "# for i in sorted_id[0:20]:\n",
    "#     sorted_word.append(word[i])\n",
    "# sorted_sum=[]\n",
    "# for i in sorted_id[0:20]:\n",
    "#     sorted_sum.append(summ[i])\n",
    "# plt.rcParams[\"font.sans-serif\"] = ['Simhei']\n",
    "# plt.rcParams[\"axes.unicode_minus\"] = False\n",
    "# import pandas as pd\n",
    "# import matplotlib.pyplot as plt\n",
    "# plt.figure(figsize=(10,50))#设置画布的尺寸\n",
    "# plt.title('词频统计图',fontsize=20)#标题，并设定字号大小\n",
    "# plt.xlabel(u'词',fontsize=14)#设置x轴，并设定字号大小\n",
    "# plt.ylabel(u'数目',fontsize=14)#设置y轴，并设定字号大小\n",
    " \n",
    "# #alpha：透明度；width：柱子的宽度；facecolor：柱子填充色；edgecolor：柱子轮廓色；lw：柱子轮廓的宽度；label：图例；\n",
    "# plt.bar(sorted_word,sorted_sum, alpha=0.2,width = 0.8,  facecolor = 'deeppink', edgecolor = 'darkblue', lw=1,)\n",
    "# plt.legend(loc=2)#图例展示位置，数字代表第几象限\n",
    "# plt.show()#显示图像"
   ]
  },
  {
   "cell_type": "code",
   "execution_count": null,
   "metadata": {},
   "outputs": [],
   "source": [
    "# # pandas 基础\n",
    "\n",
    "# datxt=pd.read_csv(\"./测试.txt\",sep='\\t',header=None,names=[\"1\",\"2\"])\n",
    "\n",
    "# # 列分隔符  sep  # \\t 空格  \\n 表示换行    names 表示自己设置列名\n",
    "\n",
    "# data.columns\n",
    "\n",
    "# data[['w','z']]  # 选择表格中的'w'、'z'列\n",
    "\n",
    "# df=df.fillna(0)# 所有的空值都填0 。df中的内容没有变。na代表空值 print(data.fillna(0)) \n",
    "\n",
    "# data.shape\n",
    "\n",
    "# data.index\n",
    "\n",
    "# data.dtypes\n",
    "\n",
    "# data.describe()\n",
    "\n",
    "# data[\"AQI\"].unique() # 有多少个不一样的取值 \n",
    "\n",
    "# data.cov()# 协方差 \n",
    "\n",
    "# data.corr()\n",
    "\n",
    "# # 删除 date这一列\n",
    "# data.drop(\"date\",axis=1)\n",
    "\n",
    "# # 删除某一行 # 删除的是第一行 \n",
    "# data.drop(0,axis=0) \n",
    "\n",
    "# # 每行求一个均值\n",
    "# data.mean(axis=1) \n",
    "\n",
    "# # 每列求一个均值 \n",
    "# data.mean(axis=0) \n",
    "\n",
    "# data[\"PM10\"].corr(data[\"PM2.5\"]) # 查看两列的相关系数\n",
    "\n",
    "# # 创建Series dataframe中的一行或者一列数据 \n",
    "# sdata=pd.Series([11,23,33,42],index=[1,2,3,4])\n",
    "# print(sdata)\n",
    "\n",
    "# sdata=pd.Series({1:\"王\",2:\"33\",3:\"ee\"})\n",
    "# print(sdata)\n",
    "\n",
    "# # 查询Series =查询字典\n",
    "# print(sdata[1]) # 就是查询 1 对应的 王 \n",
    "\n",
    "# # 自己创建dataframe-1\n",
    "# data={\n",
    "#     \"数字\":[1,2,3,4],\n",
    "#     \"字母\":[\"w\",\"e\",\"r\",\"t\"]\n",
    "    \n",
    "# }\n",
    "# sdata=pd.DataFrame(data)\n",
    "\n",
    "# # 自己创建dataframe-2\n",
    "# datas=[['a','1'],['b','2'],['c','3'],['d','4']]\n",
    "# columns=[\"zimu\",\"num\"]\n",
    "# df=pd.DataFrame(data=datas,columns=columns)\n",
    "\n",
    "# data[['date', 'hour', 'AQI']]# 查询多列\n",
    "\n",
    "# data.loc[1] # 查询一行  \n",
    "\n",
    "# data.loc[1:9]#查询多行 把把最后一个9也包含了\n",
    "\n",
    "# # 设置某一列数据来代替index, 这一列数据不删除：drop=False，删除是用True\n",
    "# data.set_index(\"date\",inplace=True,drop=False)\n",
    "\n",
    "# # 查找值\n",
    "# data.loc[\"20131205\",[\"AQI\",\"PM10\"]] # 查询索引是20131205 列是 \"AQI\",\"PM10\" 两个值 \n",
    "\n",
    "# # 查询好几个索引的值 \n",
    "# data.loc[[\"20201231\",\"20131205\"],[\"AQI\",\"PM10\"]]\n",
    "\n",
    "# # 查询 值\n",
    "# data[\"AQI\"]==47.0 # 返回的是一个 Series 布尔值 \n",
    "\n",
    "# # 条件查询\n",
    "# data.loc[data[\"AQI\"]==47.0,:]# 先选取行，后选取列：是取全部的列\n",
    "\n",
    "# # 多条件查询 \n",
    "# data.loc[(data[\"AQI\"]==47.0)&(data[\"PM10\"]<=12.0),:]\n",
    "\n",
    "# # 统计一列数据的 数据分布\n",
    "# data[\"AQI\"].value_counts() # 每个值出现了多少次 \n",
    "\n",
    "# # 列的修改：\n",
    "# # 对某一列进行修改\n",
    "# data.loc[:,\"hour\"]=0.00 # 把这一列的数据都设置为0\n",
    "\n",
    "# data.loc[:,\"hour\"].astype(\"int32\") # 修改数据类型 \n",
    "\n",
    "# data.loc[:,\"hour\"]=data[\"AQI\"]-data[\"PM10\"]\n",
    "\n",
    "# # 用汉字的描述来代替列数据中的值\n",
    "# def aqi_react(x):\n",
    "#     if x[\"PM10\"]>100:\n",
    "#         return \"严重\"\n",
    "#     else:\n",
    "#         return \"一般\"\n",
    "\n",
    "# data.loc[:,\"AQI\"]=data.apply(aqi_react,axis=1)\n",
    "\n",
    "# # 新增一列 不是在原来的数据上进行修改的 是产生了一个新的对象 \n",
    "# a=data.assign(\n",
    "#       xinzeng=data[\"AQI\"] #列名是 xinzeng \n",
    "# )\n",
    "\n",
    "# # 新建一列但是这一列数据是根据前边的数据操作而创建的\n",
    "# data[\"条件创建列\"]=\"\" # 创建空列 \n",
    "# data.loc[(data[\"PM2.5\"]>80)&(data[\"PM10\"]>80),\"条件创建列\"]=\"天气污染严重\" # 对新建的空列进行赋值 \n",
    "\n",
    "# # pandas缺失值的处理\n",
    "# data=pd.read_excel(\"./第一部分.xlsx\")# 有一个参数是 skiprows 是掠过几个空行的意思 \n",
    "# data.isnull() # False True 来表示数据 \n",
    "# data[\"AQI\"].isnull() \n",
    "\n",
    "# # 筛选没有空值得 AQI 得所有行 \n",
    "# data.loc[data[\"AQI\"].notnull(),:]\n",
    "\n",
    "# # 删除掉全是空值得列 \n",
    "# data.dropna(axis=\"columns\",how=\"all\",inplace=True)\n",
    "\n",
    "# #删除掉全是空值得行\n",
    "# data.dropna(axis=\"index\",how=\"all\",inplace=True)\n",
    "\n",
    "# # 把某列  数值 为空得值  填充为 什么 \n",
    "# data[\"PM10\"]=data[\"PM10\"].fillna(2) # fillna(method=\"ffill\") # 空值处使用前边得值进行填充 bfill 是后边得值进行填充 \n",
    "\n",
    "# # pandas对数据进行排序 \n",
    "# data.sort_values(by=[\"PM10\"],ascending=False) #行根据某个值进行排序  False是降序 \n",
    "\n",
    "# data.sort_values(by=[\"PM10\",\"PM2.5\"],ascending=[False,True]) #行根据多个列值 进行排序 升序还是降序 \n",
    "\n",
    "# # pandas 索引的index的用处 \n",
    "# # 随机打乱数据\n",
    "# # 魔法函数看函数的执行时间  %timeit\n",
    "# from sklearn.utils import shuffle\n",
    "# %timeit data_sh=shuffle(data)\n",
    "\n",
    "# # 按照某一列数据进行分组    \n",
    "# df=data.groupby(\"date\")\n",
    "# df.head()"
   ]
  }
 ],
 "metadata": {
  "kernelspec": {
   "display_name": "Python 3 (ipykernel)",
   "language": "python",
   "name": "python3"
  },
  "language_info": {
   "codemirror_mode": {
    "name": "ipython",
    "version": 3
   },
   "file_extension": ".py",
   "mimetype": "text/x-python",
   "name": "python",
   "nbconvert_exporter": "python",
   "pygments_lexer": "ipython3",
   "version": "3.8.19"
  }
 },
 "nbformat": 4,
 "nbformat_minor": 4
}
